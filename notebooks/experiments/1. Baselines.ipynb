{
    "cells": [
        {
            "cell_type": "code",
            "execution_count": null,
            "metadata": {},
            "outputs": [],
            "source": [
                "%reload_ext autoreload\n",
                "%autoreload 2"
            ]
        },
        {
            "cell_type": "markdown",
            "metadata": {},
            "source": [
                "# Logistic Regression Models"
            ]
        },
        {
            "cell_type": "code",
            "execution_count": 9,
            "metadata": {},
            "outputs": [],
            "source": [
                "import autorootcwd\n",
                "import json\n",
                "import matplotlib.pyplot as plt\n",
                "import os\n",
                "import pandas as pd\n",
                "from tqdm import tqdm"
            ]
        },
        {
            "cell_type": "markdown",
            "metadata": {},
            "source": [
                "### Performances"
            ]
        },
        {
            "cell_type": "code",
            "execution_count": null,
            "metadata": {},
            "outputs": [],
            "source": [
                "rows = []\n",
                "DIR = \"./results/logistic_lr_search\"\n",
                "\n",
                "for lr_scheduler in ['cosine', 'plateau', 'none']:\n",
                "    for lr in [1e-05, 0.0001, 0.001, 0.01]:\n",
                "        try:\n",
                "            with open(f\"{DIR}/lr-search_{lr_scheduler}_{lr}/val_metrics.json\") as f:\n",
                "                data = json.load(f)\n",
                "                rows.append({\n",
                "                    'lr_scheduler': lr_scheduler,\n",
                "                    'lr': lr,\n",
                "                    'accuracy': data['mean']['song_wise_acc'],\n",
                "                    'root': data['mean']['root'],\n",
                "                    'majmin': data['mean']['majmin'],\n",
                "                    'third': data['mean']['third'],\n",
                "                    'mirex': data['mean']['mirex'],\n",
                "                    'acc-class': data['']\n",
                "                })\n",
                "        except:\n",
                "            print(f\"Failed to load {lr_scheduler} {lr}\")\n",
                "            pass\n",
                "\n",
                "df = pd.DataFrame(rows)"
            ]
        },
        {
            "cell_type": "code",
            "execution_count": null,
            "metadata": {},
            "outputs": [
                {
                    "data": {
                        "text/html": [
                            "<div>\n",
                            "<style scoped>\n",
                            "    .dataframe tbody tr th:only-of-type {\n",
                            "        vertical-align: middle;\n",
                            "    }\n",
                            "\n",
                            "    .dataframe tbody tr th {\n",
                            "        vertical-align: top;\n",
                            "    }\n",
                            "\n",
                            "    .dataframe thead th {\n",
                            "        text-align: right;\n",
                            "    }\n",
                            "</style>\n",
                            "<table border=\"1\" class=\"dataframe\">\n",
                            "  <thead>\n",
                            "    <tr style=\"text-align: right;\">\n",
                            "      <th></th>\n",
                            "      <th>lr_scheduler</th>\n",
                            "      <th>lr</th>\n",
                            "      <th>accuracy</th>\n",
                            "      <th>root</th>\n",
                            "      <th>majmin</th>\n",
                            "      <th>third</th>\n",
                            "      <th>mirex</th>\n",
                            "    </tr>\n",
                            "  </thead>\n",
                            "  <tbody>\n",
                            "    <tr>\n",
                            "      <th>0</th>\n",
                            "      <td>cosine</td>\n",
                            "      <td>0.00001</td>\n",
                            "      <td>0.043714</td>\n",
                            "      <td>0.112932</td>\n",
                            "      <td>0.070033</td>\n",
                            "      <td>0.072458</td>\n",
                            "      <td>0.119268</td>\n",
                            "    </tr>\n",
                            "    <tr>\n",
                            "      <th>1</th>\n",
                            "      <td>cosine</td>\n",
                            "      <td>0.00010</td>\n",
                            "      <td>0.273072</td>\n",
                            "      <td>0.493698</td>\n",
                            "      <td>0.389092</td>\n",
                            "      <td>0.390656</td>\n",
                            "      <td>0.459411</td>\n",
                            "    </tr>\n",
                            "    <tr>\n",
                            "      <th>2</th>\n",
                            "      <td>cosine</td>\n",
                            "      <td>0.00100</td>\n",
                            "      <td>0.397829</td>\n",
                            "      <td>0.620383</td>\n",
                            "      <td>0.542229</td>\n",
                            "      <td>0.541970</td>\n",
                            "      <td>0.615230</td>\n",
                            "    </tr>\n",
                            "    <tr>\n",
                            "      <th>3</th>\n",
                            "      <td>cosine</td>\n",
                            "      <td>0.01000</td>\n",
                            "      <td>0.416999</td>\n",
                            "      <td>0.638019</td>\n",
                            "      <td>0.562913</td>\n",
                            "      <td>0.563797</td>\n",
                            "      <td>0.649865</td>\n",
                            "    </tr>\n",
                            "    <tr>\n",
                            "      <th>4</th>\n",
                            "      <td>plateau</td>\n",
                            "      <td>0.00001</td>\n",
                            "      <td>0.090979</td>\n",
                            "      <td>0.189489</td>\n",
                            "      <td>0.130495</td>\n",
                            "      <td>0.132214</td>\n",
                            "      <td>0.193630</td>\n",
                            "    </tr>\n",
                            "    <tr>\n",
                            "      <th>5</th>\n",
                            "      <td>plateau</td>\n",
                            "      <td>0.00010</td>\n",
                            "      <td>0.313479</td>\n",
                            "      <td>0.541707</td>\n",
                            "      <td>0.444475</td>\n",
                            "      <td>0.445903</td>\n",
                            "      <td>0.520074</td>\n",
                            "    </tr>\n",
                            "    <tr>\n",
                            "      <th>6</th>\n",
                            "      <td>plateau</td>\n",
                            "      <td>0.00100</td>\n",
                            "      <td>0.416932</td>\n",
                            "      <td>0.642881</td>\n",
                            "      <td>0.567921</td>\n",
                            "      <td>0.567504</td>\n",
                            "      <td>0.607393</td>\n",
                            "    </tr>\n",
                            "    <tr>\n",
                            "      <th>7</th>\n",
                            "      <td>plateau</td>\n",
                            "      <td>0.01000</td>\n",
                            "      <td>0.407415</td>\n",
                            "      <td>0.635006</td>\n",
                            "      <td>0.563191</td>\n",
                            "      <td>0.564211</td>\n",
                            "      <td>0.623632</td>\n",
                            "    </tr>\n",
                            "    <tr>\n",
                            "      <th>8</th>\n",
                            "      <td>none</td>\n",
                            "      <td>0.00001</td>\n",
                            "      <td>0.090979</td>\n",
                            "      <td>0.189489</td>\n",
                            "      <td>0.130495</td>\n",
                            "      <td>0.132214</td>\n",
                            "      <td>0.193630</td>\n",
                            "    </tr>\n",
                            "    <tr>\n",
                            "      <th>9</th>\n",
                            "      <td>none</td>\n",
                            "      <td>0.00010</td>\n",
                            "      <td>0.313479</td>\n",
                            "      <td>0.541707</td>\n",
                            "      <td>0.444475</td>\n",
                            "      <td>0.445903</td>\n",
                            "      <td>0.520074</td>\n",
                            "    </tr>\n",
                            "    <tr>\n",
                            "      <th>10</th>\n",
                            "      <td>none</td>\n",
                            "      <td>0.00100</td>\n",
                            "      <td>0.402400</td>\n",
                            "      <td>0.630930</td>\n",
                            "      <td>0.557573</td>\n",
                            "      <td>0.558581</td>\n",
                            "      <td>0.611824</td>\n",
                            "    </tr>\n",
                            "    <tr>\n",
                            "      <th>11</th>\n",
                            "      <td>none</td>\n",
                            "      <td>0.01000</td>\n",
                            "      <td>0.303919</td>\n",
                            "      <td>0.562816</td>\n",
                            "      <td>0.466167</td>\n",
                            "      <td>0.472644</td>\n",
                            "      <td>0.515615</td>\n",
                            "    </tr>\n",
                            "  </tbody>\n",
                            "</table>\n",
                            "</div>"
                        ],
                        "text/plain": [
                            "   lr_scheduler       lr  accuracy      root    majmin     third     mirex\n",
                            "0        cosine  0.00001  0.043714  0.112932  0.070033  0.072458  0.119268\n",
                            "1        cosine  0.00010  0.273072  0.493698  0.389092  0.390656  0.459411\n",
                            "2        cosine  0.00100  0.397829  0.620383  0.542229  0.541970  0.615230\n",
                            "3        cosine  0.01000  0.416999  0.638019  0.562913  0.563797  0.649865\n",
                            "4       plateau  0.00001  0.090979  0.189489  0.130495  0.132214  0.193630\n",
                            "5       plateau  0.00010  0.313479  0.541707  0.444475  0.445903  0.520074\n",
                            "6       plateau  0.00100  0.416932  0.642881  0.567921  0.567504  0.607393\n",
                            "7       plateau  0.01000  0.407415  0.635006  0.563191  0.564211  0.623632\n",
                            "8          none  0.00001  0.090979  0.189489  0.130495  0.132214  0.193630\n",
                            "9          none  0.00010  0.313479  0.541707  0.444475  0.445903  0.520074\n",
                            "10         none  0.00100  0.402400  0.630930  0.557573  0.558581  0.611824\n",
                            "11         none  0.01000  0.303919  0.562816  0.466167  0.472644  0.515615"
                        ]
                    },
                    "execution_count": 32,
                    "metadata": {},
                    "output_type": "execute_result"
                }
            ],
            "source": [
                "df"
            ]
        },
        {
            "cell_type": "markdown",
            "metadata": {},
            "source": [
                "### Training Graphs"
            ]
        },
        {
            "cell_type": "code",
            "execution_count": null,
            "metadata": {},
            "outputs": [],
            "source": [
                "# Loop over directory of experiments\n",
                "DIR = './results/logistic_lr_search/'\n",
                "experiments = os.listdir(DIR)\n",
                "for lr_scheduler in ['cosine', 'plateau', 'none']:\n",
                "    for lr in [1e-5, 0.0001, 0.001, 0.01]:\n",
                "        if lr_scheduler == 'none' and lr == 0.0001:\n",
                "            continue\n",
                "        exp = f'lr-search_{lr_scheduler}_{lr}'\n",
                "        training_history = json.load(open(f'{DIR}/{exp}/training_history.json'))\n",
                "        train_losses = training_history['train_losses']\n",
                "        val_losses = training_history['val_losses']\n",
                "        val_accuracies = training_history['val_accuracies']\n",
                "        # Plot all 3, with acc having its own y-axis\n",
                "        fig, ax1 = plt.subplots()\n",
                "        ax2 = ax1.twinx()\n",
                "        ax1.plot(train_losses, label='Training Loss', color='blue')\n",
                "        # Multiply validations by 5 as they were only recorded every 5 epochs\n",
                "        ax1.plot([5 * i for i in range(len(val_losses))], val_losses, label='Validation Loss', color='red')\n",
                "        ax2.plot([5 * i for i in range(len(val_accuracies))], val_accuracies, label='Validation Accuracy', color='green')\n",
                "        ax1.set_xlabel('Epoch')\n",
                "        ax1.set_ylabel('Loss')\n",
                "        ax2.set_ylabel('Accuracy')\n",
                "        ax1.legend(loc='upper left')\n",
                "        plt.title(f'{exp}')"
            ]
        },
        {
            "cell_type": "markdown",
            "metadata": {},
            "source": [
                "# Re run for evaluation"
            ]
        },
        {
            "cell_type": "code",
            "execution_count": 4,
            "metadata": {},
            "outputs": [],
            "source": [
                "import autorootcwd\n",
                "from src.utils import get_split_filenames\n",
                "from src.eval import evaluate_model\n",
                "from src.data.dataset import FullChordDataset\n",
                "from src.models.logistic_acr import LogisticACR\n",
                "from src.models.cnn import CNN\n",
                "import torch"
            ]
        },
        {
            "cell_type": "code",
            "execution_count": 6,
            "metadata": {},
            "outputs": [
                {
                    "name": "stderr",
                    "output_type": "stream",
                    "text": [
                        "/Users/pierrelardet/.pyenv/versions/UG4Diss/lib/python3.8/site-packages/torch/_utils.py:831: UserWarning: TypedStorage is deprecated. It will be removed in the future and UntypedStorage will be the only storage class. This should only matter to you if you are using storages directly.  To access UntypedStorage directly, use tensor.untyped_storage() instead of tensor.storage()\n",
                        "  return self.fget.__get__(instance, owner)()\n"
                    ]
                },
                {
                    "data": {
                        "text/plain": [
                            "CNN(\n",
                            "  (hmm_smoother): HMMSmoother()\n",
                            "  (temporal_cnn): Sequential(\n",
                            "    (0): Conv2d(1, 10, kernel_size=(9, 9), stride=(1, 1), padding=same)\n",
                            "    (1): ReLU()\n",
                            "    (2): Conv2d(10, 10, kernel_size=(9, 9), stride=(1, 1), padding=same)\n",
                            "    (3): ReLU()\n",
                            "    (4): Conv2d(10, 10, kernel_size=(9, 9), stride=(1, 1), padding=same)\n",
                            "    (5): ReLU()\n",
                            "    (6): Conv2d(10, 10, kernel_size=(9, 9), stride=(1, 1), padding=same)\n",
                            "    (7): ReLU()\n",
                            "    (8): Conv2d(10, 10, kernel_size=(9, 9), stride=(1, 1), padding=same)\n",
                            "    (9): ReLU()\n",
                            "  )\n",
                            "  (freq_collapse): Conv2d(10, 36, kernel_size=(1, 216), stride=(1, 1))\n",
                            "  (classifier): Linear(in_features=36, out_features=170, bias=True)\n",
                            ")"
                        ]
                    },
                    "execution_count": 6,
                    "metadata": {},
                    "output_type": "execute_result"
                }
            ],
            "source": [
                "# Load the best model\n",
                "model = CNN(kernel_size=9, num_layers=5, channels=10, use_generative_features=False)\n",
                "model.load_state_dict(torch.load('./results/cnn/cnn_k9_l5_c10/best_model.pth', map_location='mps', weights_only=True))\n",
                "model.eval()"
            ]
        },
        {
            "cell_type": "code",
            "execution_count": null,
            "metadata": {},
            "outputs": [],
            "source": []
        },
        {
            "cell_type": "code",
            "execution_count": 12,
            "metadata": {},
            "outputs": [
                {
                    "name": "stderr",
                    "output_type": "stream",
                    "text": [
                        "100%|██████████| 242/242 [06:19<00:00,  1.57s/it]\n"
                    ]
                }
            ],
            "source": [
                "def get_predictions(model, dataset):\n",
                "    model.to('cpu')\n",
                "    all_preds = []\n",
                "    all_labels = []\n",
                "\n",
                "    with torch.no_grad():  # Use no_grad to speed up inference\n",
                "        for i in tqdm(range(len(dataset))):\n",
                "            cqt, _, label = dataset[i]\n",
                "            pred = model(cqt.unsqueeze(0))\n",
                "            preds = torch.argmax(pred, dim=2)\n",
                "            all_preds.append(preds[0])  # Keep as tensors\n",
                "            all_labels.append(label)    # Keep as tensors\n",
                "\n",
                "    # Concatenate all predictions and labels at the end\n",
                "    all_preds = torch.cat(all_preds)\n",
                "    all_labels = torch.cat(all_labels)\n",
                "    return all_preds, all_labels\n",
                "\n",
                "all_preds, all_labels = get_predictions(model, val_dataset)"
            ]
        },
        {
            "cell_type": "code",
            "execution_count": 13,
            "metadata": {},
            "outputs": [
                {
                    "data": {
                        "text/plain": [
                            "tensor(0.5507)"
                        ]
                    },
                    "execution_count": 13,
                    "metadata": {},
                    "output_type": "execute_result"
                }
            ],
            "source": [
                "# overall accuracy\n",
                "overall_accuracy = (all_preds == all_labels).float().mean()\n",
                "overall_accuracy"
            ]
        },
        {
            "cell_type": "code",
            "execution_count": 7,
            "metadata": {},
            "outputs": [
                {
                    "name": "stderr",
                    "output_type": "stream",
                    "text": [
                        "100%|██████████| 16/16 [03:21<00:00, 12.62s/it]\n"
                    ]
                },
                {
                    "data": {
                        "text/plain": [
                            "{'mean': {'root': 0.7861017399423762,\n",
                            "  'majmin': 0.760402419261019,\n",
                            "  'mirex': 0.7898987247735245,\n",
                            "  'third': 0.7547091755130134,\n",
                            "  'seventh': 0.6248140921684602,\n",
                            "  'song_wise_acc': 0.6068177794262413},\n",
                            " 'median': {'root': 0.7917422484264613,\n",
                            "  'majmin': 0.7697265241147416,\n",
                            "  'mirex': 0.7960683223259043,\n",
                            "  'third': 0.7605957228043113,\n",
                            "  'seventh': 0.6062894874423463,\n",
                            "  'song_wise_acc': 0.5876923396107485},\n",
                            " 'frame_wise_acc': 0.608097208648358,\n",
                            " 'class_wise_acc_mean': 0.1801803593178583,\n",
                            " 'class_wise_acc_median': 0.0}"
                        ]
                    },
                    "execution_count": 7,
                    "metadata": {},
                    "output_type": "execute_result"
                }
            ],
            "source": [
                "train_filenames, val_filenames, test_filenames = get_split_filenames()\n",
                "test_dataset = FullChordDataset(test_filenames, gen_layer=None)\n",
                "\n",
                "# Evaluate the model on validation data\n",
                "test_metrics = evaluate_model(model, test_dataset, batch_size=16)\n",
                "test_metrics"
            ]
        }
    ],
    "metadata": {
        "kernelspec": {
            "display_name": "UG4Diss",
            "language": "python",
            "name": "python3"
        },
        "language_info": {
            "codemirror_mode": {
                "name": "ipython",
                "version": 3
            },
            "file_extension": ".py",
            "mimetype": "text/x-python",
            "name": "python",
            "nbconvert_exporter": "python",
            "pygments_lexer": "ipython3",
            "version": "3.8.10"
        }
    },
    "nbformat": 4,
    "nbformat_minor": 2
}
