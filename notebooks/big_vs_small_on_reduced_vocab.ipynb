{
 "cells": [
  {
   "cell_type": "code",
   "execution_count": 1,
   "metadata": {},
   "outputs": [],
   "source": [
    "%reload_ext autoreload\n",
    "%autoreload 2"
   ]
  },
  {
   "cell_type": "code",
   "execution_count": 2,
   "metadata": {},
   "outputs": [],
   "source": [
    "import autorootcwd\n",
    "import torch\n",
    "import os\n",
    "import numpy as np\n",
    "from tqdm import tqdm\n",
    "from typing import Dict, List\n",
    "\n",
    "import matplotlib.pyplot as plt\n",
    "from torch.utils.data.dataloader import DataLoader\n",
    "from sklearn.metrics import  accuracy_score\n",
    "\n",
    "from src.utils import get_torch_device, collate_fn, NUM_CHORDS, get_split_filenames\n",
    "from src.models.ismir2017 import ISMIR2017ACR\n",
    "from src.models.base_model import BaseACR\n",
    "from src.data.dataset import FullChordDataset\n",
    "from src.eval import EvalMetric"
   ]
  },
  {
   "cell_type": "code",
   "execution_count": 3,
   "metadata": {},
   "outputs": [],
   "source": [
    "from functools import lru_cache\n",
    "from src.utils import chord_to_id, id_to_chord\n",
    "\n",
    "@lru_cache(maxsize=None)\n",
    "def large_to_small_vocab_id(id: int) -> int:\n",
    "    \"\"\"\n",
    "    Converts a large vocabulary chord id to a small vocabulary chord id.\n",
    "\n",
    "    Args:\n",
    "        id (int): The large vocabulary chord id.\n",
    "\n",
    "    Returns:\n",
    "        int: The small vocabulary chord id.\n",
    "    \"\"\"\n",
    "\n",
    "    chord = id_to_chord(id, use_small_vocab=False)\n",
    "    return chord_to_id(chord, use_small_vocab=True)"
   ]
  },
  {
   "cell_type": "markdown",
   "metadata": {},
   "source": [
    "## Load Models"
   ]
  },
  {
   "cell_type": "code",
   "execution_count": null,
   "metadata": {},
   "outputs": [],
   "source": [
    "def evaluate_model_large_vs_small(\n",
    "    model: BaseACR,\n",
    "    is_small: bool,\n",
    "    dataset: FullChordDataset,\n",
    "    evals: List[EvalMetric] = [\n",
    "        EvalMetric.ROOT,\n",
    "        EvalMetric.MAJMIN,\n",
    "        EvalMetric.MIREX,\n",
    "        EvalMetric.THIRD,\n",
    "        EvalMetric.SEVENTH,\n",
    "        EvalMetric.SONG_WISE_ACC,\n",
    "    ],\n",
    "    frame_wise_acc: bool = True,\n",
    "    class_wise_acc: bool = True,\n",
    "    batch_size: int = 8,\n",
    "    device: torch.device = None,\n",
    ") -> Dict[str, float]:\n",
    "    \"\"\"\n",
    "    Evaluate a model on a dataset split using a list of evaluation metrics.\n",
    "\n",
    "    Args:\n",
    "        model (BaseACRModel): The model to evaluate.\n",
    "        dataset (FullChordDataset): The dataset to evaluate on.\n",
    "        evals (list[EvalMetrics]): The evaluation metrics to use. Defaults to [EvalMetrics.ROOT, EvalMetrics.MAJMIN, EvalMetrics.MIREX, EvalMetrics.THIRD, EvalMetrics.SEVENTH].\n",
    "        batch_size (int): The batch size to use for evaluation. Defaults to 32.\n",
    "        device (torch.device): The device to use for evaluation. Defaults to None.\n",
    "\n",
    "    Returns:\n",
    "        metrics (dict[str, float]): A dictionary of evaluation metrics and their values.\n",
    "    \"\"\"\n",
    "    if not device:\n",
    "        device = get_torch_device()\n",
    "\n",
    "    model.to(device)\n",
    "    model.eval()\n",
    "\n",
    "    # Initialize metrics storage\n",
    "    metrics = {\"mean\": {}, \"median\": {}}\n",
    "\n",
    "    for eval in evals:\n",
    "        metrics[\"mean\"][eval.value] = 0.0\n",
    "        metrics[\"median\"][eval.value] = []\n",
    "\n",
    "    data_loader = DataLoader(\n",
    "        dataset, batch_size=batch_size, shuffle=False, collate_fn=collate_fn\n",
    "    )\n",
    "\n",
    "    song_metrics = {eval.value: {} for eval in evals}\n",
    "\n",
    "    all_hypotheses = []\n",
    "    all_references = []\n",
    "\n",
    "    for j, (batch_features, batch_labels) in enumerate(tqdm(data_loader)):\n",
    "        batch_features, batch_labels = batch_features.to(device), batch_labels.to(\n",
    "            device\n",
    "        )\n",
    "        predictions = model.predict(batch_features).to(device)\n",
    "\n",
    "        for i in range(batch_labels.shape[0]):  # Iterate over songs in the batch\n",
    "            valid_mask = batch_labels[i] != -1\n",
    "\n",
    "            if not valid_mask.any():\n",
    "                continue\n",
    "            filtered_references = batch_labels[i][valid_mask].cpu().numpy()\n",
    "            filtered_hypotheses = predictions[i][valid_mask].cpu().numpy()\n",
    "\n",
    "            # Map predictions to small vocabulary if necessary\n",
    "            if not is_small:\n",
    "                filtered_hypotheses = np.array([large_to_small_vocab_id(id) for id in filtered_hypotheses])\n",
    "\n",
    "            all_hypotheses.extend(filtered_hypotheses)\n",
    "            all_references.extend(filtered_references)\n",
    "\n",
    "            ref_labels = np.vectorize(lambda id: id_to_chord(id, use_small_vocab=True))(filtered_references)\n",
    "            hyp_labels = np.vectorize(lambda id: id_to_chord(id, use_small_vocab=True))(filtered_hypotheses)\n",
    "\n",
    "            for eval in evals:\n",
    "                if eval.get_eval_input_type() == \"int\":\n",
    "                    song_eval_scores = eval.evaluate(\n",
    "                        filtered_references, filtered_hypotheses\n",
    "                    )\n",
    "                else:\n",
    "                    song_eval_scores = eval.evaluate(hyp_labels, ref_labels)\n",
    "\n",
    "                # Filter out invalid scores that are -1 (produced by mir_eval with 'X' labels for example)\n",
    "                song_eval_scores = song_eval_scores[song_eval_scores != -1]\n",
    "\n",
    "                if i not in song_metrics[eval.value]:\n",
    "                    song_metrics[eval.value][i] = []\n",
    "\n",
    "                song_metrics[eval.value][i].append(np.mean(song_eval_scores))\n",
    "\n",
    "    for eval in evals:\n",
    "        song_scores = [np.mean(scores) for scores in song_metrics[eval.value].values()]\n",
    "\n",
    "        metrics[\"mean\"][eval.value] = np.mean(song_scores)\n",
    "        metrics[\"median\"][eval.value] = np.median(song_scores)\n",
    "\n",
    "    # Flatten along song dimension\n",
    "    all_hypotheses = np.array(all_hypotheses)\n",
    "    all_references = np.array(all_references)\n",
    "\n",
    "    if frame_wise_acc:\n",
    "        metrics[\"frame_wise_acc\"] = accuracy_score(all_references, all_hypotheses)\n",
    "\n",
    "    if class_wise_acc:\n",
    "        class_accs = np.full(NUM_CHORDS, np.nan)\n",
    "        for i in range(NUM_CHORDS):\n",
    "            # Find all references of class i\n",
    "            mask = all_references == i\n",
    "            class_references = all_references[mask]\n",
    "            class_hypotheses = all_hypotheses[mask]\n",
    "\n",
    "            if class_references.size > 0:\n",
    "                class_accs[i] = accuracy_score(class_references, class_hypotheses)\n",
    "\n",
    "        metrics[\"class_wise_acc_mean\"] = np.nanmean(class_accs)  # Ignore NaNs\n",
    "        metrics[\"class_wise_acc_median\"] = np.nanmedian(class_accs)\n",
    "\n",
    "    return metrics"
   ]
  },
  {
   "cell_type": "code",
   "execution_count": 5,
   "metadata": {},
   "outputs": [
    {
     "name": "stdout",
     "output_type": "stream",
     "text": [
      "Models loaded\n",
      "Loaded dataset\n"
     ]
    }
   ],
   "source": [
    "DIR = f'./results_archive/small_vs_large_vocab'\n",
    "\n",
    "device = get_torch_device()\n",
    "\n",
    "small_exp = 'small_vocab_defaults'\n",
    "small_model = ISMIR2017ACR(num_classes=25)\n",
    "small_model.load_state_dict(torch.load(f'{DIR}/{small_exp}/best_model.pth', map_location=device, weights_only=True))\n",
    "small_model.eval()\n",
    "\n",
    "big_exp = 'large_vocab_defaults'\n",
    "big_model = ISMIR2017ACR()\n",
    "big_model.load_state_dict(torch.load(f'{DIR}/{big_exp}/best_model.pth', map_location=device, weights_only=True))\n",
    "\n",
    "print('Models loaded')\n",
    "\n",
    "_, val_filenames, _ = get_split_filenames()\n",
    "val_dataset = FullChordDataset(val_filenames, small_vocab=True)\n",
    "\n",
    "print('Loaded dataset')"
   ]
  },
  {
   "cell_type": "code",
   "execution_count": 19,
   "metadata": {},
   "outputs": [
    {
     "name": "stderr",
     "output_type": "stream",
     "text": [
      "100%|██████████| 31/31 [03:59<00:00,  7.73s/it]\n"
     ]
    }
   ],
   "source": [
    "small_metrics = evaluate_model_large_vs_small(small_model, is_small=True, dataset=val_dataset)"
   ]
  },
  {
   "cell_type": "code",
   "execution_count": 20,
   "metadata": {},
   "outputs": [
    {
     "name": "stderr",
     "output_type": "stream",
     "text": [
      "100%|██████████| 31/31 [04:06<00:00,  7.94s/it]\n"
     ]
    }
   ],
   "source": [
    "big_metrics = evaluate_model_large_vs_small(big_model, is_small=False, dataset=val_dataset)"
   ]
  },
  {
   "cell_type": "code",
   "execution_count": 21,
   "metadata": {},
   "outputs": [
    {
     "data": {
      "text/plain": [
       "{'mean': {'root': 0.7521009331113848,\n",
       "  'majmin': 0.7266224277446486,\n",
       "  'mirex': 0.7266224277446486,\n",
       "  'third': 0.7266224277446486,\n",
       "  'seventh': 0.7266224277446486,\n",
       "  'song_wise_acc': 0.7266224277446486},\n",
       " 'median': {'root': 0.752433221002297,\n",
       "  'majmin': 0.7266083548858546,\n",
       "  'mirex': 0.7266083548858546,\n",
       "  'third': 0.7266083548858546,\n",
       "  'seventh': 0.7266083548858546,\n",
       "  'song_wise_acc': 0.7266083548858546},\n",
       " 'frame_wise_acc': 0.721178526092597,\n",
       " 'class_wise_acc_mean': 0.7100064014497233,\n",
       " 'class_wise_acc_median': 0.7055723581706534}"
      ]
     },
     "execution_count": 21,
     "metadata": {},
     "output_type": "execute_result"
    }
   ],
   "source": [
    "small_metrics"
   ]
  },
  {
   "cell_type": "code",
   "execution_count": 22,
   "metadata": {},
   "outputs": [
    {
     "data": {
      "text/plain": [
       "{'mean': {'root': 0.748228778171669,\n",
       "  'majmin': 0.7228633715382331,\n",
       "  'mirex': 0.7228633715382331,\n",
       "  'third': 0.7228633715382331,\n",
       "  'seventh': 0.7228633715382331,\n",
       "  'song_wise_acc': 0.7228633715382331},\n",
       " 'median': {'root': 0.747905636814356,\n",
       "  'majmin': 0.7190395911639591,\n",
       "  'mirex': 0.7190395911639591,\n",
       "  'third': 0.7190395911639591,\n",
       "  'seventh': 0.7190395911639591,\n",
       "  'song_wise_acc': 0.7190395911639591},\n",
       " 'frame_wise_acc': 0.7174313334356299,\n",
       " 'class_wise_acc_mean': 0.7123980491226508,\n",
       " 'class_wise_acc_median': 0.730242825607064}"
      ]
     },
     "execution_count": 22,
     "metadata": {},
     "output_type": "execute_result"
    }
   ],
   "source": [
    "big_metrics"
   ]
  },
  {
   "cell_type": "code",
   "execution_count": 18,
   "metadata": {},
   "outputs": [
    {
     "data": {
      "text/plain": [
       "'weezer_hashpipe'"
      ]
     },
     "execution_count": 18,
     "metadata": {},
     "output_type": "execute_result"
    }
   ],
   "source": [
    "bad_filename = val_filenames[104]\n",
    "bad_filename"
   ]
  },
  {
   "cell_type": "code",
   "execution_count": 19,
   "metadata": {},
   "outputs": [
    {
     "data": {
      "text/plain": [
       "SortedKeyList([Observation(time=0.0, duration=0.8390000000000001, value='N', confidence=1.0), Observation(time=0.8390000000000001, duration=22.926000000000002, value='A:maj(*3)', confidence=1.0), Observation(time=23.765, duration=3.7870000000000004, value='D:maj(*3)', confidence=1.0), Observation(time=27.552000000000003, duration=3.874, value='A:maj(*3)', confidence=1.0), Observation(time=31.426000000000002, duration=3.8120000000000003, value='D:maj(*3)', confidence=1.0), Observation(time=35.238, duration=3.813, value='F:maj(*3)', confidence=1.0), Observation(time=39.051, duration=3.8470000000000004, value='E:maj(*3)', confidence=1.0), Observation(time=42.898, duration=3.85, value='D:maj(*3)', confidence=1.0), Observation(time=46.748000000000005, duration=3.814, value='C:maj(*3)', confidence=1.0), Observation(time=50.562000000000005, duration=3.785, value='B:maj(*3)', confidence=1.0), Observation(time=54.347, duration=22.917, value='A:maj(*3)', confidence=1.0), Observation(time=77.26400000000001, duration=3.777, value='D:maj(*3)', confidence=1.0), Observation(time=81.04100000000001, duration=3.813, value='A:maj(*3)', confidence=1.0), Observation(time=84.854, duration=3.8840000000000003, value='D:maj(*3)', confidence=1.0), Observation(time=88.738, duration=3.83, value='F:maj(*3)', confidence=1.0), Observation(time=92.56800000000001, duration=3.8110000000000004, value='E:maj(*3)', confidence=1.0), Observation(time=96.379, duration=3.8160000000000003, value='D:maj(*3)', confidence=1.0), Observation(time=100.19500000000001, duration=3.829, value='C:maj(*3)', confidence=1.0), Observation(time=104.024, duration=3.826, value='B:maj(*3)', confidence=1.0), Observation(time=107.85000000000001, duration=3.8230000000000004, value='G:maj(*3)', confidence=1.0), Observation(time=111.673, duration=22.896, value='A:maj(*3)', confidence=1.0), Observation(time=134.56900000000002, duration=3.83, value='D:maj(*3)', confidence=1.0), Observation(time=138.399, duration=3.8230000000000004, value='A:maj(*3)', confidence=1.0), Observation(time=142.222, duration=3.8510000000000004, value='D:maj(*3)', confidence=1.0), Observation(time=146.073, duration=3.797, value='F:maj(*3)', confidence=1.0), Observation(time=149.87, duration=3.8110000000000004, value='E:maj(*3)', confidence=1.0), Observation(time=153.681, duration=3.849, value='D:maj(*3)', confidence=1.0), Observation(time=157.53, duration=3.857, value='C:maj(*3)', confidence=1.0), Observation(time=161.387, duration=3.821, value='B:maj(*3)', confidence=1.0), Observation(time=165.208, duration=3.7950000000000004, value='G:maj(*3)', confidence=1.0), Observation(time=169.00300000000001, duration=16.017, value='A:maj(*3)', confidence=1.0), Observation(time=185.02, duration=0.9800000000000001, value='N', confidence=1.0)], key=<bound method Annotation._key of <class 'jams.core.Annotation'>>)"
      ]
     },
     "execution_count": 19,
     "metadata": {},
     "output_type": "execute_result"
    }
   ],
   "source": [
    "from src.utils import get_raw_chord_annotation\n",
    "\n",
    "bad_annotation = get_raw_chord_annotation(bad_filename)\n",
    "bad_annotation"
   ]
  },
  {
   "cell_type": "code",
   "execution_count": 22,
   "metadata": {},
   "outputs": [
    {
     "data": {
      "text/plain": [
       "0"
      ]
     },
     "execution_count": 22,
     "metadata": {},
     "output_type": "execute_result"
    }
   ],
   "source": [
    "chord_to_id('D:maj(*3)', use_small_vocab=True)"
   ]
  },
  {
   "cell_type": "code",
   "execution_count": null,
   "metadata": {},
   "outputs": [
    {
     "name": "stderr",
     "output_type": "stream",
     "text": [
      "100%|██████████| 1213/1213 [04:22<00:00,  4.62it/s]\n"
     ]
    }
   ],
   "source": [
    "small_dataset = FullChordDataset(override_small_vocab=True)\n",
    "\n",
    "small_all_preds = []\n",
    "small_all_labels = []\n",
    "\n",
    "with torch.no_grad():  # Use no_grad to speed up inference\n",
    "    for i in tqdm(range(len(small_dataset))):\n",
    "        cqt, label = small_dataset[i]\n",
    "        pred = small_model(cqt.unsqueeze(0))\n",
    "        preds = torch.argmax(pred, dim=2)\n",
    "        small_all_preds.append(preds[0])  # Keep as tensors\n",
    "        small_all_labels.append(label)    # Keep as tensors\n",
    "\n",
    "# Concatenate all predictions and labels at the end\n",
    "small_all_preds = torch.cat(small_all_preds)\n",
    "small_all_labels = torch.cat(small_all_labels)"
   ]
  },
  {
   "cell_type": "code",
   "execution_count": 22,
   "metadata": {},
   "outputs": [
    {
     "name": "stderr",
     "output_type": "stream",
     "text": [
      "100%|██████████| 1213/1213 [04:34<00:00,  4.41it/s]\n"
     ]
    }
   ],
   "source": [
    "big_dataset = FullChordDataset()\n",
    "\n",
    "big_all_preds = []\n",
    "\n",
    "with torch.no_grad():  # Use no_grad to speed up inference\n",
    "    for i in tqdm(range(len(big_dataset))):\n",
    "        cqt, label = big_dataset[i]\n",
    "        pred = big_model(cqt.unsqueeze(0))\n",
    "        preds = torch.argmax(pred, dim=2)\n",
    "        big_all_preds.append(preds[0])  # Keep as tensors\n",
    "\n",
    "# Concatenate all predictions and labels at the end\n",
    "big_all_preds = torch.cat(big_all_preds)"
   ]
  },
  {
   "cell_type": "code",
   "execution_count": null,
   "metadata": {},
   "outputs": [],
   "source": []
  },
  {
   "cell_type": "code",
   "execution_count": 24,
   "metadata": {},
   "outputs": [],
   "source": [
    "# Map large vocabulary predictions to small vocabulary\n",
    "big_all_preds_small_vocab = torch.tensor([large_to_small_vocab_id(id.item()) for id in big_all_preds])"
   ]
  },
  {
   "cell_type": "code",
   "execution_count": null,
   "metadata": {},
   "outputs": [
    {
     "name": "stdout",
     "output_type": "stream",
     "text": [
      "Small model accuracy on small dataset: 0.81\n",
      "Big model accuracy on small dataset: 0.78\n"
     ]
    }
   ],
   "source": [
    "N_mask = small_all_labels != 0 # Mask out N chords\n",
    "\n",
    "# Accuracy of small model on small dataset ignoring N (index 0)\n",
    "small_all_preds_masked = small_all_preds[N_mask]\n",
    "small_all_labels_masked = small_all_labels[N_mask]\n",
    "small_correct = (small_all_preds_masked == small_all_labels_masked).sum().item()\n",
    "small_total = small_all_labels_masked.size(0)\n",
    "small_acc = small_correct / small_total\n",
    "print(f'Small model accuracy on small dataset: {small_acc:.2f}')\n",
    "\n",
    "# Accuracy of big model on small dataset ignoring N (index 0)\n",
    "big_all_preds_masked = big_all_preds_small_vocab[N_mask]\n",
    "big_correct = (big_all_preds_masked == small_all_labels_masked).sum().item()\n",
    "big_total = small_all_labels_masked.size(0)\n",
    "big_acc = big_correct / big_total\n",
    "print(f'Big model accuracy on small dataset: {big_acc:.2f}')"
   ]
  },
  {
   "cell_type": "code",
   "execution_count": 29,
   "metadata": {},
   "outputs": [
    {
     "name": "stdout",
     "output_type": "stream",
     "text": [
      "Small model accuracy on small dataset: 0.77\n",
      "Big model accuracy on small dataset: 0.73\n"
     ]
    }
   ],
   "source": [
    "# Accuracy of small model on small dataset without ignoring N\n",
    "small_correct = (small_all_preds == small_all_labels).sum().item()\n",
    "small_total = small_all_labels.size(0)\n",
    "small_acc = small_correct / small_total\n",
    "print(f'Small model accuracy on small dataset: {small_acc:.2f}')\n",
    "\n",
    "# Accuracy of big model on small dataset without ignoring N\n",
    "big_correct = (big_all_preds_small_vocab == small_all_labels).sum().item()\n",
    "big_total = small_all_labels.size(0)\n",
    "big_acc = big_correct / big_total\n",
    "print(f'Big model accuracy on small dataset: {big_acc:.2f}')"
   ]
  }
 ],
 "metadata": {
  "kernelspec": {
   "display_name": "UG4Diss",
   "language": "python",
   "name": "python3"
  },
  "language_info": {
   "codemirror_mode": {
    "name": "ipython",
    "version": 3
   },
   "file_extension": ".py",
   "mimetype": "text/x-python",
   "name": "python",
   "nbconvert_exporter": "python",
   "pygments_lexer": "ipython3",
   "version": "3.8.10"
  }
 },
 "nbformat": 4,
 "nbformat_minor": 2
}
