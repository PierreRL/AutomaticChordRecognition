{
 "cells": [
  {
   "cell_type": "code",
   "execution_count": 9,
   "metadata": {},
   "outputs": [],
   "source": [
    "%reload_ext autoreload\n",
    "%autoreload 2"
   ]
  },
  {
   "cell_type": "code",
   "execution_count": 10,
   "metadata": {},
   "outputs": [],
   "source": [
    "import autorootcwd\n",
    "import torch\n",
    "import os\n",
    "import numpy as np\n",
    "from tqdm import tqdm\n",
    "import seaborn as sns\n",
    "import matplotlib.pyplot as plt\n",
    "from torch.utils.data.dataloader import DataLoader\n",
    "from sklearn.metrics import confusion_matrix\n",
    "\n",
    "from src.utils import chord_to_id_map, id_to_chord_map, get_torch_device, collate_fn, get_annotation_metadata\n",
    "from src.models.ismir2017 import ISMIR2017ACR\n",
    "from src.data.dataset import FullChordDataset"
   ]
  },
  {
   "cell_type": "code",
   "execution_count": 20,
   "metadata": {},
   "outputs": [
    {
     "name": "stdout",
     "output_type": "stream",
     "text": [
      "['metrics.json', 'metadata.json', 'best_model.pth', 'training_args.json', 'training_history.json']\n",
      "\n",
      "Models loaded\n"
     ]
    },
    {
     "name": "stderr",
     "output_type": "stream",
     "text": [
      "/var/folders/wv/rkgyh65d1jx0nzbn07gn8f380000gn/T/ipykernel_20025/100896150.py:7: FutureWarning: You are using `torch.load` with `weights_only=False` (the current default value), which uses the default pickle module implicitly. It is possible to construct malicious pickle data which will execute arbitrary code during unpickling (See https://github.com/pytorch/pytorch/blob/main/SECURITY.md#untrusted-models for more details). In a future release, the default value for `weights_only` will be flipped to `True`. This limits the functions that could be executed during unpickling. Arbitrary objects will no longer be allowed to be loaded via this mode unless they are explicitly allowlisted by the user via `torch.serialization.add_safe_globals`. We recommend you start setting `weights_only=True` for any use case where you don't have full control of the loaded file. Please open an issue on GitHub for any issues related to this experimental feature.\n",
      "  small_model.load_state_dict(torch.load(f'./data/experiments/{small_exp}/best_model.pth', map_location=device))\n",
      "/var/folders/wv/rkgyh65d1jx0nzbn07gn8f380000gn/T/ipykernel_20025/100896150.py:12: FutureWarning: You are using `torch.load` with `weights_only=False` (the current default value), which uses the default pickle module implicitly. It is possible to construct malicious pickle data which will execute arbitrary code during unpickling (See https://github.com/pytorch/pytorch/blob/main/SECURITY.md#untrusted-models for more details). In a future release, the default value for `weights_only` will be flipped to `True`. This limits the functions that could be executed during unpickling. Arbitrary objects will no longer be allowed to be loaded via this mode unless they are explicitly allowlisted by the user via `torch.serialization.add_safe_globals`. We recommend you start setting `weights_only=True` for any use case where you don't have full control of the loaded file. Please open an issue on GitHub for any issues related to this experimental feature.\n",
      "  big_model.load_state_dict(torch.load(f'./data/experiments/{big_exp}/best_model.pth', map_location=device))\n"
     ]
    }
   ],
   "source": [
    "\n",
    "print(os.listdir('./data/experiments/ismir2017-lr-0.001'))\n",
    "\n",
    "device = get_torch_device()\n",
    "\n",
    "small_exp = 'ismir2017-lr-0.001'\n",
    "small_model = ISMIR2017ACR(cr2=False, num_classes=25)\n",
    "small_model.load_state_dict(torch.load(f'./data/experiments/{small_exp}/best_model.pth', map_location=device))\n",
    "small_model.eval()\n",
    "\n",
    "big_exp = 'large-vocab-fewer-X'\n",
    "big_model = ISMIR2017ACR(cr2=False)\n",
    "big_model.load_state_dict(torch.load(f'./data/experiments/{big_exp}/best_model.pth', map_location=device))\n",
    "big_model.eval()\n",
    "\n",
    "print('\\nModels loaded')"
   ]
  },
  {
   "cell_type": "code",
   "execution_count": 21,
   "metadata": {},
   "outputs": [
    {
     "name": "stderr",
     "output_type": "stream",
     "text": [
      "100%|██████████| 1213/1213 [04:22<00:00,  4.62it/s]\n"
     ]
    }
   ],
   "source": [
    "small_dataset = FullChordDataset(override_small_vocab=True)\n",
    "\n",
    "small_all_preds = []\n",
    "small_all_labels = []\n",
    "\n",
    "with torch.no_grad():  # Use no_grad to speed up inference\n",
    "    for i in tqdm(range(len(small_dataset))):\n",
    "        cqt, label = small_dataset[i]\n",
    "        pred = small_model(cqt.unsqueeze(0))\n",
    "        preds = torch.argmax(pred, dim=2)\n",
    "        small_all_preds.append(preds[0])  # Keep as tensors\n",
    "        small_all_labels.append(label)    # Keep as tensors\n",
    "\n",
    "# Concatenate all predictions and labels at the end\n",
    "small_all_preds = torch.cat(small_all_preds)\n",
    "small_all_labels = torch.cat(small_all_labels)"
   ]
  },
  {
   "cell_type": "code",
   "execution_count": 22,
   "metadata": {},
   "outputs": [
    {
     "name": "stderr",
     "output_type": "stream",
     "text": [
      "100%|██████████| 1213/1213 [04:34<00:00,  4.41it/s]\n"
     ]
    }
   ],
   "source": [
    "big_dataset = FullChordDataset()\n",
    "\n",
    "big_all_preds = []\n",
    "\n",
    "with torch.no_grad():  # Use no_grad to speed up inference\n",
    "    for i in tqdm(range(len(big_dataset))):\n",
    "        cqt, label = big_dataset[i]\n",
    "        pred = big_model(cqt.unsqueeze(0))\n",
    "        preds = torch.argmax(pred, dim=2)\n",
    "        big_all_preds.append(preds[0])  # Keep as tensors\n",
    "\n",
    "# Concatenate all predictions and labels at the end\n",
    "big_all_preds = torch.cat(big_all_preds)"
   ]
  },
  {
   "cell_type": "code",
   "execution_count": 23,
   "metadata": {},
   "outputs": [],
   "source": [
    "from functools import lru_cache\n",
    "from src.utils import chord_to_id, id_to_chord\n",
    "\n",
    "@lru_cache(maxsize=None)\n",
    "def large_to_small_vocab_id(id: int) -> int:\n",
    "    \"\"\"\n",
    "    Converts a large vocabulary chord id to a small vocabulary chord id.\n",
    "\n",
    "    Args:\n",
    "        id (int): The large vocabulary chord id.\n",
    "\n",
    "    Returns:\n",
    "        int: The small vocabulary chord id.\n",
    "    \"\"\"\n",
    "\n",
    "    chord = id_to_chord(id, use_small_vocab=False)\n",
    "    return chord_to_id(chord, use_small_vocab=True)"
   ]
  },
  {
   "cell_type": "code",
   "execution_count": 24,
   "metadata": {},
   "outputs": [],
   "source": [
    "# Map large vocabulary predictions to small vocabulary\n",
    "big_all_preds_small_vocab = torch.tensor([large_to_small_vocab_id(id.item()) for id in big_all_preds])"
   ]
  },
  {
   "cell_type": "code",
   "execution_count": null,
   "metadata": {},
   "outputs": [
    {
     "name": "stdout",
     "output_type": "stream",
     "text": [
      "Small model accuracy on small dataset: 0.81\n",
      "Big model accuracy on small dataset: 0.78\n"
     ]
    }
   ],
   "source": [
    "N_mask = small_all_labels != 0 # Mask out N chords\n",
    "\n",
    "# Accuracy of small model on small dataset ignoring N (index 0)\n",
    "small_all_preds_masked = small_all_preds[N_mask]\n",
    "small_all_labels_masked = small_all_labels[N_mask]\n",
    "small_correct = (small_all_preds_masked == small_all_labels_masked).sum().item()\n",
    "small_total = small_all_labels_masked.size(0)\n",
    "small_acc = small_correct / small_total\n",
    "print(f'Small model accuracy on small dataset: {small_acc:.2f}')\n",
    "\n",
    "# Accuracy of big model on small dataset ignoring N (index 0)\n",
    "big_all_preds_masked = big_all_preds_small_vocab[N_mask]\n",
    "big_correct = (big_all_preds_masked == small_all_labels_masked).sum().item()\n",
    "big_total = small_all_labels_masked.size(0)\n",
    "big_acc = big_correct / big_total\n",
    "print(f'Big model accuracy on small dataset: {big_acc:.2f}')"
   ]
  },
  {
   "cell_type": "code",
   "execution_count": 29,
   "metadata": {},
   "outputs": [
    {
     "name": "stdout",
     "output_type": "stream",
     "text": [
      "Small model accuracy on small dataset: 0.77\n",
      "Big model accuracy on small dataset: 0.73\n"
     ]
    }
   ],
   "source": [
    "# Accuracy of small model on small dataset without ignoring N\n",
    "small_correct = (small_all_preds == small_all_labels).sum().item()\n",
    "small_total = small_all_labels.size(0)\n",
    "small_acc = small_correct / small_total\n",
    "print(f'Small model accuracy on small dataset: {small_acc:.2f}')\n",
    "\n",
    "# Accuracy of big model on small dataset without ignoring N\n",
    "big_correct = (big_all_preds_small_vocab == small_all_labels).sum().item()\n",
    "big_total = small_all_labels.size(0)\n",
    "big_acc = big_correct / big_total\n",
    "print(f'Big model accuracy on small dataset: {big_acc:.2f}')"
   ]
  }
 ],
 "metadata": {
  "kernelspec": {
   "display_name": "UG4Diss",
   "language": "python",
   "name": "python3"
  },
  "language_info": {
   "codemirror_mode": {
    "name": "ipython",
    "version": 3
   },
   "file_extension": ".py",
   "mimetype": "text/x-python",
   "name": "python",
   "nbconvert_exporter": "python",
   "pygments_lexer": "ipython3",
   "version": "3.9.6"
  }
 },
 "nbformat": 4,
 "nbformat_minor": 2
}
