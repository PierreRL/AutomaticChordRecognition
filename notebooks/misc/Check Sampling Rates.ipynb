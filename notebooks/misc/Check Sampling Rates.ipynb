{
 "cells": [
  {
   "cell_type": "code",
   "execution_count": 3,
   "metadata": {},
   "outputs": [],
   "source": [
    "%load_ext autoreload\n",
    "%autoreload 2"
   ]
  },
  {
   "cell_type": "code",
   "execution_count": 2,
   "metadata": {},
   "outputs": [
    {
     "name": "stderr",
     "output_type": "stream",
     "text": [
      "[src/libmpg123/id3.c:process_extra():681] error: No extra frame text / valid description?\n",
      "[src/libmpg123/id3.c:process_extra():681] error: No extra frame text / valid description?\n",
      "[src/libmpg123/id3.c:process_extra():681] error: No extra frame text / valid description?\n"
     ]
    }
   ],
   "source": [
    "import autorootcwd\n",
    "import librosa\n",
    "from src.utils import get_filenames\n",
    "\n",
    "# Get sampling rate for all audio files\n",
    "filenames = get_filenames()\n",
    "srs = []\n",
    "for filename in filenames:\n",
    "    path = \"./data/processed/audio/\" + filename + \".mp3\"\n",
    "    sr = librosa.get_samplerate(path)\n",
    "    srs.append(sr)"
   ]
  },
  {
   "cell_type": "code",
   "execution_count": 25,
   "metadata": {},
   "outputs": [
    {
     "name": "stdout",
     "output_type": "stream",
     "text": [
      "All audio files have the same sampling rate.\n",
      "44100\n"
     ]
    }
   ],
   "source": [
    "# Check if all sampling rates are the same\n",
    "if len(set(srs)) == 1:\n",
    "    print(\"All audio files have the same sampling rate.\")\n",
    "\n",
    "print(srs[0])"
   ]
  }
 ],
 "metadata": {
  "kernelspec": {
   "display_name": "UG4Diss",
   "language": "python",
   "name": "python3"
  },
  "language_info": {
   "codemirror_mode": {
    "name": "ipython",
    "version": 3
   },
   "file_extension": ".py",
   "mimetype": "text/x-python",
   "name": "python",
   "nbconvert_exporter": "python",
   "pygments_lexer": "ipython3",
   "version": "3.9.6"
  }
 },
 "nbformat": 4,
 "nbformat_minor": 2
}
