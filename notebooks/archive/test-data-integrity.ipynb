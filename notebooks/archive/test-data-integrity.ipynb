{
 "cells": [
  {
   "cell_type": "code",
   "execution_count": 1,
   "metadata": {},
   "outputs": [
    {
     "data": {
      "text/plain": [
       "[Observation(time=0.0, duration=0.789478, value='N', confidence=1.0),\n",
       " Observation(time=0.789478, duration=10.657959, value='N', confidence=1.0),\n",
       " Observation(time=11.447438, duration=2.7631750000000004, value='B:aug', confidence=1.0),\n",
       " Observation(time=14.210612000000001, duration=2.7631750000000004, value='N', confidence=1.0),\n",
       " Observation(time=16.973787, duration=2.1151020000000003, value='F#:min7', confidence=1.0),\n",
       " Observation(time=19.088889, duration=2.1151020000000003, value='B:7', confidence=1.0),\n",
       " Observation(time=21.203991000000002, duration=2.1151020000000003, value='F#:min7', confidence=1.0),\n",
       " Observation(time=23.319093000000002, duration=2.1151020000000003, value='B:7', confidence=1.0),\n",
       " Observation(time=25.434195000000003, duration=2.1151020000000003, value='E:maj6', confidence=1.0),\n",
       " Observation(time=27.549297000000003, duration=2.1151020000000003, value='B:13', confidence=1.0),\n",
       " Observation(time=29.664399000000003, duration=2.1151020000000003, value='E:maj6', confidence=1.0),\n",
       " Observation(time=31.779501000000003, duration=2.1151020000000003, value='C#:7(b9)/3', confidence=1.0),\n",
       " Observation(time=33.894603000000004, duration=2.0848470000000003, value='F#:min7', confidence=1.0),\n",
       " Observation(time=35.97945, duration=2.0848470000000003, value='B:7', confidence=1.0),\n",
       " Observation(time=38.064297, duration=2.0848470000000003, value='F#:min7', confidence=1.0),\n",
       " Observation(time=40.149144, duration=2.0848470000000003, value='B:7', confidence=1.0),\n",
       " Observation(time=42.233991, duration=2.0848470000000003, value='E:maj6', confidence=1.0),\n",
       " Observation(time=44.318838, duration=2.0848470000000003, value='B:13', confidence=1.0),\n",
       " Observation(time=46.403685, duration=4.169694000000001, value='E:maj7', confidence=1.0),\n",
       " Observation(time=50.573379, duration=4.163447000000001, value='G#:min', confidence=1.0),\n",
       " Observation(time=54.736825, duration=4.163447000000001, value='C#:min', confidence=1.0),\n",
       " Observation(time=58.900272, duration=4.163447000000001, value='G#:min', confidence=1.0),\n",
       " Observation(time=63.063719000000006, duration=4.163447000000001, value='C#:min', confidence=1.0),\n",
       " Observation(time=67.22716600000001, duration=4.298509, value='G#:min', confidence=1.0),\n",
       " Observation(time=71.525675, duration=4.298509, value='A:maj', confidence=1.0),\n",
       " Observation(time=75.824184, duration=4.298509, value='B:maj', confidence=1.0),\n",
       " Observation(time=80.122693, duration=4.298509, value='B:maj', confidence=1.0),\n",
       " Observation(time=84.42120200000001, duration=2.090539, value='F#:min7', confidence=1.0),\n",
       " Observation(time=86.51174, duration=2.090539, value='B:7', confidence=1.0),\n",
       " Observation(time=88.60227900000001, duration=2.090539, value='F#:min7', confidence=1.0),\n",
       " Observation(time=90.692817, duration=2.090539, value='B:7', confidence=1.0),\n",
       " Observation(time=92.78335600000001, duration=2.090539, value='E:maj6', confidence=1.0),\n",
       " Observation(time=94.873895, duration=2.090539, value='B:13', confidence=1.0),\n",
       " Observation(time=96.964433, duration=2.090539, value='E:maj6', confidence=1.0),\n",
       " Observation(time=99.054972, duration=2.090539, value='C#:7(b9)/3', confidence=1.0),\n",
       " Observation(time=101.14551, duration=2.072528, value='F#:min7', confidence=1.0),\n",
       " Observation(time=103.218039, duration=2.072528, value='B:7', confidence=1.0),\n",
       " Observation(time=105.29056700000001, duration=2.072528, value='F#:min7', confidence=1.0),\n",
       " Observation(time=107.363095, duration=2.072528, value='B:7', confidence=1.0),\n",
       " Observation(time=109.435624, duration=2.072528, value='E:maj6', confidence=1.0),\n",
       " Observation(time=111.50815200000001, duration=2.072528, value='B:13', confidence=1.0),\n",
       " Observation(time=113.58068, duration=4.145057, value='E:maj7', confidence=1.0),\n",
       " Observation(time=117.72573700000001, duration=4.148005, value='G#:min', confidence=1.0),\n",
       " Observation(time=121.87374100000001, duration=4.148005, value='C#:min', confidence=1.0),\n",
       " Observation(time=126.02174600000001, duration=4.148005, value='G#:min', confidence=1.0),\n",
       " Observation(time=130.16975100000002, duration=4.148005, value='C#:min', confidence=1.0),\n",
       " Observation(time=134.317755, duration=4.195266, value='G#:min', confidence=1.0),\n",
       " Observation(time=138.513022, duration=4.195266, value='A:maj', confidence=1.0),\n",
       " Observation(time=142.708288, duration=4.195266, value='B:7', confidence=1.0),\n",
       " Observation(time=146.903554, duration=4.195266, value='B:maj', confidence=1.0),\n",
       " Observation(time=151.09882100000002, duration=2.0766750000000003, value='F#:min7', confidence=1.0),\n",
       " Observation(time=153.175496, duration=2.0766750000000003, value='B:7', confidence=1.0),\n",
       " Observation(time=155.25217099900001, duration=2.0766750000000003, value='F#:min7', confidence=1.0),\n",
       " Observation(time=157.328846, duration=2.0766750000000003, value='B:7', confidence=1.0),\n",
       " Observation(time=159.40552200000002, duration=2.0766750000000003, value='E:maj6', confidence=1.0),\n",
       " Observation(time=161.482197, duration=2.0766750000000003, value='B:13', confidence=1.0),\n",
       " Observation(time=163.558872, duration=2.0766750000000003, value='E:maj6', confidence=1.0),\n",
       " Observation(time=165.635547, duration=2.0766750000000003, value='C#:7(b9)/3', confidence=1.0),\n",
       " Observation(time=167.712222, duration=2.0597220000000003, value='F#:min7', confidence=1.0),\n",
       " Observation(time=169.77194400000002, duration=2.0597220000000003, value='B:7', confidence=1.0),\n",
       " Observation(time=171.831667, duration=2.0597220000000003, value='F#:min7', confidence=1.0),\n",
       " Observation(time=173.891389, duration=2.0597220000000003, value='B:7', confidence=1.0),\n",
       " Observation(time=175.951111, duration=2.0597220000000003, value='E:maj6', confidence=1.0),\n",
       " Observation(time=178.01083300000002, duration=2.0597220000000003, value='B:13', confidence=1.0),\n",
       " Observation(time=180.070556, duration=2.0597220000000003, value='E:maj6', confidence=1.0),\n",
       " Observation(time=182.130278, duration=2.0597220000000003, value='C#:7(b9)/3', confidence=1.0),\n",
       " Observation(time=184.19, duration=2.065567, value='F#:min7', confidence=1.0),\n",
       " Observation(time=186.255567, duration=2.065567, value='B:7', confidence=1.0),\n",
       " Observation(time=188.321134, duration=2.065567, value='F#:min7', confidence=1.0),\n",
       " Observation(time=190.38670100000002, duration=2.065567, value='B:7', confidence=1.0),\n",
       " Observation(time=192.452268, duration=2.065567, value='E:maj6', confidence=1.0),\n",
       " Observation(time=194.51783400000002, duration=2.065567, value='B:13', confidence=1.0),\n",
       " Observation(time=196.583401, duration=2.065567, value='E:maj6', confidence=1.0),\n",
       " Observation(time=198.64896800000002, duration=2.065567, value='C#:7(b9)/3', confidence=1.0),\n",
       " Observation(time=200.714535, duration=2.067367, value='F#:min7', confidence=1.0),\n",
       " Observation(time=202.781902, duration=2.067367, value='B:7', confidence=1.0),\n",
       " Observation(time=204.84926900000002, duration=2.067367, value='F#:min7', confidence=1.0),\n",
       " Observation(time=206.916635, duration=2.067367, value='B:7', confidence=1.0),\n",
       " Observation(time=208.984002, duration=2.067367, value='E:maj6', confidence=1.0),\n",
       " Observation(time=211.05136900000002, duration=2.067367, value='B:13', confidence=1.0),\n",
       " Observation(time=213.118736, duration=2.067367, value='E:maj6', confidence=1.0),\n",
       " Observation(time=215.186103, duration=2.067367, value='C#:7(b9)/3', confidence=1.0),\n",
       " Observation(time=217.25346900000002, duration=2.042809, value='F#:min7', confidence=1.0),\n",
       " Observation(time=219.296278, duration=2.042809, value='B:7', confidence=1.0),\n",
       " Observation(time=221.339087, duration=2.042809, value='F#:min7', confidence=1.0),\n",
       " Observation(time=223.381896, duration=2.042809, value='B:7', confidence=1.0),\n",
       " Observation(time=225.42470500000002, duration=2.042809, value='E:maj6', confidence=1.0),\n",
       " Observation(time=227.46751400000002, duration=2.042809, value='B:13', confidence=1.0),\n",
       " Observation(time=229.51032300000003, duration=2.042809, value='E:maj6', confidence=1.0),\n",
       " Observation(time=231.553132, duration=2.042809, value='C#:7(b9)/3', confidence=1.0),\n",
       " Observation(time=233.595941, duration=2.045465, value='F#:min7', confidence=1.0),\n",
       " Observation(time=235.64140600000002, duration=2.045465, value='B:7', confidence=1.0),\n",
       " Observation(time=237.68687000000003, duration=4.090929, value='E:maj7', confidence=1.0),\n",
       " Observation(time=241.77779900000002, duration=3.7500180000000003, value='N', confidence=1.0),\n",
       " Observation(time=245.52781800000002, duration=0.340911, value='N', confidence=1.0),\n",
       " Observation(time=245.868728, duration=14.318252000000001, value='N', confidence=1.0),\n",
       " Observation(time=260.18698, duration=0.340911, value='N', confidence=1.0),\n",
       " Observation(time=260.527891, duration=2.786395, value='N', confidence=1.0),\n",
       " Observation(time=263.31428600000004, duration=3.5526530000000003, value='N', confidence=1.0)]"
      ]
     },
     "execution_count": 1,
     "metadata": {},
     "output_type": "execute_result"
    }
   ],
   "source": [
    "import jams\n",
    "import librosa\n",
    "import os\n",
    "file_name = 'TRZUUDG149E37F179C'\n",
    "\n",
    "jam = jams.load(os.path.join('../data/chord_data_1217/references_v2/', f'{file_name}.jams'))\n",
    "chord_ann = jam.annotations.search(namespace=\"chord\")[0]\n",
    "chord_ann.data[:len(chord_ann.data)]"
   ]
  },
  {
   "cell_type": "code",
   "execution_count": 3,
   "metadata": {},
   "outputs": [
    {
     "name": "stdout",
     "output_type": "stream",
     "text": [
      "1217\n"
     ]
    }
   ],
   "source": [
    "# Load the file data/chord_data_1217/audio/filelist.txt\n",
    "with open('data/chord_data_1217/audio/filelist.txt', 'r') as f:\n",
    "    # Iterate over the lines in the file\n",
    "    lines = f.readlines()\n",
    "    print(len(lines))"
   ]
  }
 ],
 "metadata": {
  "kernelspec": {
   "display_name": "UG4Diss",
   "language": "python",
   "name": "python3"
  },
  "language_info": {
   "codemirror_mode": {
    "name": "ipython",
    "version": 3
   },
   "file_extension": ".py",
   "mimetype": "text/x-python",
   "name": "python",
   "nbconvert_exporter": "python",
   "pygments_lexer": "ipython3",
   "version": "3.9.6"
  }
 },
 "nbformat": 4,
 "nbformat_minor": 2
}
