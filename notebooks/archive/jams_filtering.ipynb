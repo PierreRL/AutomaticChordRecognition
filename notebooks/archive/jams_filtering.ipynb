{
 "cells": [
  {
   "cell_type": "code",
   "execution_count": 16,
   "metadata": {},
   "outputs": [
    {
     "name": "stderr",
     "output_type": "stream",
     "text": [
      "100%|██████████| 20086/20086 [01:22<00:00, 242.96it/s]\n"
     ]
    }
   ],
   "source": [
    "import os\n",
    "import jams\n",
    "import shutil\n",
    "from tqdm import tqdm\n",
    "\n",
    "errored_files = []\n",
    "copied_files = []\n",
    "\n",
    "# Loop over the files in the ./data/jams_all directory, and for each file, load the jam, check the jam.sandbox['type'] and if it is 'audio', copy the file to /data/jams directory. But only the first 100 filest\n",
    "for root, dirs, files in os.walk('./data/jams_all'):\n",
    "    for file in tqdm(files):\n",
    "        path = os.path.join(root, file)\n",
    "        try:\n",
    "            jam = jams.load(path)\n",
    "            if jam.sandbox['type'] == 'audio':\n",
    "                shutil.copy2(path, './data/jams')\n",
    "                copied_files.append(os.path.join(root, file))\n",
    "        except:\n",
    "            # Add this file to an error list\n",
    "            errored_files.append(os.path.join(root, file))\n",
    "                    "
   ]
  },
  {
   "cell_type": "code",
   "execution_count": 17,
   "metadata": {},
   "outputs": [
    {
     "name": "stdout",
     "output_type": "stream",
     "text": [
      "Copied 1853 files\n",
      "Errored on 18131 files\n"
     ]
    }
   ],
   "source": [
    "print(f'Copied {len(copied_files)} files')\n",
    "print(f'Errored on {len(errored_files)} files')"
   ]
  },
  {
   "cell_type": "code",
   "execution_count": 18,
   "metadata": {},
   "outputs": [
    {
     "name": "stdout",
     "output_type": "stream",
     "text": [
      "Total files: 19984\n",
      "Files in dir: 20086\n"
     ]
    }
   ],
   "source": [
    "total_files = len(copied_files) + len(errored_files)\n",
    "print(f'Total files: {total_files}')\n",
    "\n",
    "files_in_dir = len(os.listdir('./data/jams_all'))\n",
    "print(f'Files in dir: {files_in_dir}')"
   ]
  },
  {
   "cell_type": "code",
   "execution_count": 20,
   "metadata": {},
   "outputs": [],
   "source": [
    "# Print file names that are in file_in_dir but not in the joint list of copied_files and errored_files\n",
    "files = []\n",
    "for root, dirs, files in os.walk('./data/jams_all'):\n",
    "    for file in files:\n",
    "        if file not in copied_files and file not in errored_files:\n",
    "            files.append(file)\n",
    "\n",
    "print(files)"
   ]
  },
  {
   "cell_type": "code",
   "execution_count": 7,
   "metadata": {},
   "outputs": [
    {
     "name": "stdout",
     "output_type": "stream",
     "text": [
      "Errored files:\n",
      "./data/jams_all/real-book_1299.jams\n",
      "./data/jams_all/wikifonia_5485.jams\n",
      "./data/jams_all/biab-internet-corpus_960.jams\n",
      "./data/jams_all/wikifonia_2340.jams\n",
      "./data/jams_all/isophonics_222.jams\n",
      "./data/jams_all/real-book_903.jams\n",
      "./data/jams_all/nottingham_507.jams\n",
      "./data/jams_all/biab-internet-corpus_2328.jams\n",
      "./data/jams_all/weimar_228.jams\n",
      "./data/jams_all/wikifonia_1995.jams\n",
      "./data/jams_all/real-book_1763.jams\n",
      "./data/jams_all/weimar_382.jams\n",
      "./data/jams_all/ireal-pro_1091.jams\n",
      "./data/jams_all/wikifonia_3802.jams\n",
      "./data/jams_all/wikifonia_2710.jams\n",
      "./data/jams_all/biab-internet-corpus_2282.jams\n",
      "./data/jams_all/nottingham_157.jams\n",
      "./data/jams_all/biab-internet-corpus_2778.jams\n",
      "./data/jams_all/biab-internet-corpus_1857.jams\n",
      "./data/jams_all/real-book_1333.jams\n",
      "./data/jams_all/rock-corpus_115.jams\n",
      "./data/jams_all/wikifonia_3551.jams\n",
      "./data/jams_all/wikifonia_4294.jams\n",
      "./data/jams_all/when-in-rome_311.jams\n",
      "./data/jams_all/biab-internet-corpus_4706.jams\n",
      "./data/jams_all/schubert-winterreise-audio_170.jams\n",
      "./data/jams_all/biab-internet-corpus_3539.jams\n",
      "./data/jams_all/biab-internet-corpus_1504.jams\n",
      "./data/jams_all/biab-internet-corpus_599.jams\n",
      "./data/jams_all/ireal-pro_1838.jams\n",
      "./data/jams_all/wikifonia_1096.jams\n",
      "./data/jams_all/biab-internet-corpus_433.jams\n",
      "./data/jams_all/ireal-pro_1992.jams\n",
      "./data/jams_all/biab-internet-corpus_30.jams\n",
      "./data/jams_all/real-book_450.jams\n",
      "./data/jams_all/biab-internet-corpus_3493.jams\n",
      "./data/jams_all/biab-internet-corpus_4356.jams\n",
      "./data/jams_all/biab-internet-corpus_3169.jams\n",
      "./data/jams_all/biab-internet-corpus_1154.jams\n",
      "./data/jams_all/wikifonia_255.jams\n",
      "./data/jams_all/nottingham_854.jams\n",
      "./data/jams_all/ireal-pro_295.jams\n",
      "./data/jams_all/wikifonia_6303.jams\n",
      "./data/jams_all/ireal-pro_780.jams\n",
      "./data/jams_all/wikifonia_740.jams\n",
      "./data/jams_all/wikifonia_5939.jams\n",
      "./data/jams_all/weimar_28.jams\n",
      "./data/jams_all/wikifonia_6616.jams\n",
      "./data/jams_all/wikifonia_1429.jams\n",
      "./data/jams_all/wikifonia_3414.jams\n",
      "./data/jams_all/biab-internet-corpus_126.jams\n",
      "./data/jams_all/when-in-rome_254.jams\n",
      "./data/jams_all/biab-internet-corpus_4643.jams\n",
      "./data/jams_all/biab-internet-corpus_3186.jams\n",
      "./data/jams_all/real-book_145.jams\n",
      "./data/jams_all/biab-internet-corpus_1011.jams\n",
      "./data/jams_all/billboard_55.jams\n",
      "./data/jams_all/nottingham_911.jams\n",
      "./data/jams_all/wikifonia_310.jams\n",
      "./data/jams_all/wikifonia_1583.jams\n",
      "./data/jams_all/wikifonia_6246.jams\n",
      "./data/jams_all/biab-internet-corpus_576.jams\n",
      "./data/jams_all/wikifonia_5893.jams\n",
      "./data/jams_all/wikifonia_1079.jams\n",
      "./data/jams_all/wikifonia_4781.jams\n",
      "./data/jams_all/wikifonia_61.jams\n",
      "./data/jams_all/real-book_515.jams\n",
      "./data/jams_all/biab-internet-corpus_4213.jams\n",
      "./data/jams_all/uspop2002_143.jams\n",
      "./data/jams_all/nottingham_442.jams\n",
      "./data/jams_all/real-book_1626.jams\n",
      "./data/jams_all/biab-internet-corpus_825.jams\n",
      "./data/jams_all/wikifonia_2205.jams\n",
      "./data/jams_all/ireal-pro_1584.jams\n",
      "./data/jams_all/biab-internet-corpus_2797.jams\n",
      "./data/jams_all/real-book_846.jams\n",
      "./data/jams_all/biab-internet-corpus_3885.jams\n",
      "./data/jams_all/biab-internet-corpus_1912.jams\n",
      "./data/jams_all/real-book_1276.jams\n",
      "./data/jams_all/wikifonia_3947.jams\n",
      "./data/jams_all/wikifonia_2655.jams\n",
      "./data/jams_all/wikifonia_5190.jams\n",
      "./data/jams_all/wikifonia_4152.jams\n",
      "./data/jams_all/wikifonia_3697.jams\n",
      "./data/jams_all/real-book_2773.jams\n",
      "./data/jams_all/wikifonia_2985.jams\n",
      "./data/jams_all/biab-internet-corpus_1338.jams\n",
      "./data/jams_all/biab-internet-corpus_3305.jams\n",
      "./data/jams_all/ireal-pro_503.jams\n",
      "./data/jams_all/wikifonia_1350.jams\n",
      "./data/jams_all/wikifonia_6495.jams\n",
      "./data/jams_all/real-book_2289.jams\n",
      "./data/jams_all/wikifonia_4502.jams\n",
      "./data/jams_all/real-book_2323.jams\n",
      "./data/jams_all/real-book_796.jams\n",
      "./data/jams_all/biab-internet-corpus_2847.jams\n",
      "./data/jams_all/wikifonia_469.jams\n",
      "./data/jams_all/biab-internet-corpus_1768.jams\n",
      "./data/jams_all/biab-internet-corpus_4090.jams\n"
     ]
    }
   ],
   "source": [
    "print('Errored files:')\n",
    "for file in errored_files:\n",
    "    print(file)"
   ]
  },
  {
   "cell_type": "code",
   "execution_count": 4,
   "metadata": {},
   "outputs": [
    {
     "name": "stdout",
     "output_type": "stream",
     "text": [
      "True\n"
     ]
    }
   ],
   "source": [
    "# Print if ./data/jams_all/isophonics_170.jams is in errored_files\n",
    "print('./data/jams_all/isophonics_170.jams' in errored_files)"
   ]
  },
  {
   "cell_type": "code",
   "execution_count": 2,
   "metadata": {},
   "outputs": [
    {
     "name": "stdout",
     "output_type": "stream",
     "text": [
      "1853\n"
     ]
    }
   ],
   "source": [
    "# Print # of files in ./data/jams\n",
    "import os\n",
    "print(len(os.listdir('./data/jams')))"
   ]
  },
  {
   "cell_type": "code",
   "execution_count": 80,
   "metadata": {},
   "outputs": [],
   "source": [
    "import jams\n",
    "import pandas as pd\n",
    "\n",
    "tracks = []\n",
    "\n",
    "for file in os.listdir(\"./data/jams_all\"):\n",
    "    try:\n",
    "        jam = jams.load(f\"./data/jams_all/{file}\")\n",
    "    except:\n",
    "        continue\n",
    "    title = jam.file_metadata.title\n",
    "    artist = jam.file_metadata.artist\n",
    "    release = jam.file_metadata.release\n",
    "    duration = jam.file_metadata.duration\n",
    "    identifiers = dict(jam.file_metadata.identifiers)\n",
    "    musicbrainz = identifiers.get(\"musicbrainz\", None)\n",
    "    youtube = identifiers.get(\"youtube\", None)\n",
    "    dataid_billboard = identifiers.get(\"dataid_billboard\", None)\n",
    "    corpus = jam['annotations'][0]['annotation_metadata']['corpus']\n",
    "    tracks.append(\n",
    "        {\n",
    "            \"title\": title,\n",
    "            \"artist\": artist,\n",
    "            \"release\": release,\n",
    "            \"duration\": duration,\n",
    "            \"corpus\": corpus,\n",
    "            \"musicbrainz\": musicbrainz,\n",
    "            \"youtube\": youtube,\n",
    "            \"dataid_billboard\": dataid_billboard,\n",
    "        }\n",
    "    )\n",
    "\n",
    "df = pd.DataFrame(tracks)"
   ]
  },
  {
   "cell_type": "code",
   "execution_count": 81,
   "metadata": {},
   "outputs": [
    {
     "data": {
      "text/plain": [
       "corpus\n",
       "McGill Billboard                           889\n",
       "isophonics                                 225\n",
       "Schubert Winterreise Dataset               216\n",
       "Uspop 2002                                 195\n",
       "Real World Computing Music Database        100\n",
       "Audio-aligned jazz harmony dataset          89\n",
       "Real Book                                   62\n",
       "Robbie Williams dataset                     61\n",
       "Chordify Annotator Subjectivity Dataset     50\n",
       "BiaB Internet Corpus                        40\n",
       "Weimar Jazz Database                        28\n",
       "Name: count, dtype: int64"
      ]
     },
     "execution_count": 81,
     "metadata": {},
     "output_type": "execute_result"
    }
   ],
   "source": [
    "df['corpus'].value_counts()"
   ]
  },
  {
   "cell_type": "code",
   "execution_count": 79,
   "metadata": {},
   "outputs": [
    {
     "data": {
      "text/plain": [
       "corpus\n",
       "McGill Billboard                           889\n",
       "isophonics                                 225\n",
       "Schubert Winterreise Dataset               216\n",
       "Uspop 2002                                 195\n",
       "Real World Computing Music Database        100\n",
       "Audio-aligned jazz harmony dataset          89\n",
       "Robbie Williams dataset                     61\n",
       "Chordify Annotator Subjectivity Dataset     50\n",
       "Weimar Jazz Database                        28\n",
       "Name: count, dtype: int64"
      ]
     },
     "execution_count": 79,
     "metadata": {},
     "output_type": "execute_result"
    }
   ],
   "source": [
    "df['corpus'].value_counts()"
   ]
  },
  {
   "cell_type": "code",
   "execution_count": 47,
   "metadata": {},
   "outputs": [
    {
     "name": "stdout",
     "output_type": "stream",
     "text": [
      "{'youtube', 'musicbrainz', 'dataid_billboard'}\n"
     ]
    }
   ],
   "source": [
    "all_keys = set()\n",
    "\n",
    "for i in range(len(tracks)):\n",
    "    all_keys.update(tracks[i]['identifiers'].keys())\n",
    "\n",
    "print(all_keys)"
   ]
  },
  {
   "cell_type": "code",
   "execution_count": 75,
   "metadata": {},
   "outputs": [
    {
     "name": "stdout",
     "output_type": "stream",
     "text": [
      "isophonics\n"
     ]
    }
   ],
   "source": [
    "for file in os.listdir(\"./data/jams\"):\n",
    "    jam = jams.load(f\"./data/jams/{file}\")\n",
    "    print(jam['annotations'][0]['annotation_metadata']['corpus'])\n",
    "    break"
   ]
  },
  {
   "cell_type": "code",
   "execution_count": 55,
   "metadata": {},
   "outputs": [
    {
     "name": "stdout",
     "output_type": "stream",
     "text": [
      "{'title': 'Eleanor Rigby', 'artist': '', 'release': 'Revolver', 'duration': 127.667, 'musicbrainz': None, 'youtube': None, 'dataid_billboard': None}\n"
     ]
    }
   ],
   "source": [
    "print(tracks[0])"
   ]
  },
  {
   "cell_type": "code",
   "execution_count": 54,
   "metadata": {},
   "outputs": [
    {
     "data": {
      "text/html": [
       "<div>\n",
       "<style scoped>\n",
       "    .dataframe tbody tr th:only-of-type {\n",
       "        vertical-align: middle;\n",
       "    }\n",
       "\n",
       "    .dataframe tbody tr th {\n",
       "        vertical-align: top;\n",
       "    }\n",
       "\n",
       "    .dataframe thead th {\n",
       "        text-align: right;\n",
       "    }\n",
       "</style>\n",
       "<table border=\"1\" class=\"dataframe\">\n",
       "  <thead>\n",
       "    <tr style=\"text-align: right;\">\n",
       "      <th></th>\n",
       "      <th>title</th>\n",
       "      <th>artist</th>\n",
       "      <th>release</th>\n",
       "      <th>duration</th>\n",
       "      <th>musicbrainz</th>\n",
       "      <th>youtube</th>\n",
       "      <th>dataid_billboard</th>\n",
       "    </tr>\n",
       "  </thead>\n",
       "  <tbody>\n",
       "    <tr>\n",
       "      <th>0</th>\n",
       "      <td>Eleanor Rigby</td>\n",
       "      <td></td>\n",
       "      <td>Revolver</td>\n",
       "      <td>127.667000</td>\n",
       "      <td>None</td>\n",
       "      <td>None</td>\n",
       "      <td>NaN</td>\n",
       "    </tr>\n",
       "    <tr>\n",
       "      <th>1</th>\n",
       "      <td>Gefrorne Tränen</td>\n",
       "      <td></td>\n",
       "      <td></td>\n",
       "      <td>140.970000</td>\n",
       "      <td>https://musicbrainz.org/release/f10034f7-5ebc-...</td>\n",
       "      <td>None</td>\n",
       "      <td>NaN</td>\n",
       "    </tr>\n",
       "    <tr>\n",
       "      <th>2</th>\n",
       "      <td>Freeze-Frame</td>\n",
       "      <td></td>\n",
       "      <td></td>\n",
       "      <td>239.830204</td>\n",
       "      <td>None</td>\n",
       "      <td>None</td>\n",
       "      <td>NaN</td>\n",
       "    </tr>\n",
       "    <tr>\n",
       "      <th>3</th>\n",
       "      <td>Bye Bye Bye</td>\n",
       "      <td></td>\n",
       "      <td>No Strings Attached</td>\n",
       "      <td>200.000000</td>\n",
       "      <td>None</td>\n",
       "      <td>None</td>\n",
       "      <td>NaN</td>\n",
       "    </tr>\n",
       "    <tr>\n",
       "      <th>4</th>\n",
       "      <td>Baby I'm Burnin'</td>\n",
       "      <td></td>\n",
       "      <td></td>\n",
       "      <td>158.484898</td>\n",
       "      <td>None</td>\n",
       "      <td>None</td>\n",
       "      <td>NaN</td>\n",
       "    </tr>\n",
       "  </tbody>\n",
       "</table>\n",
       "</div>"
      ],
      "text/plain": [
       "              title artist              release    duration  \\\n",
       "0     Eleanor Rigby                    Revolver  127.667000   \n",
       "1   Gefrorne Tränen                              140.970000   \n",
       "2      Freeze-Frame                              239.830204   \n",
       "3       Bye Bye Bye         No Strings Attached  200.000000   \n",
       "4  Baby I'm Burnin'                              158.484898   \n",
       "\n",
       "                                         musicbrainz youtube  dataid_billboard  \n",
       "0                                               None    None               NaN  \n",
       "1  https://musicbrainz.org/release/f10034f7-5ebc-...    None               NaN  \n",
       "2                                               None    None               NaN  \n",
       "3                                               None    None               NaN  \n",
       "4                                               None    None               NaN  "
      ]
     },
     "execution_count": 54,
     "metadata": {},
     "output_type": "execute_result"
    }
   ],
   "source": [
    "df.head()"
   ]
  },
  {
   "cell_type": "code",
   "execution_count": 58,
   "metadata": {},
   "outputs": [],
   "source": [
    "# Output the dataframe to a CSV file\n",
    "df.to_csv('./data/tracks_with_metadata.csv', index=False)\n",
    "\n",
    "# Output just the titles, artists and rleases to a CSV file\n",
    "df[['title', 'artist', 'release']].to_csv('./data/tracks.csv', index=False)"
   ]
  }
 ],
 "metadata": {
  "kernelspec": {
   "display_name": "UG4Diss",
   "language": "python",
   "name": "python3"
  },
  "language_info": {
   "codemirror_mode": {
    "name": "ipython",
    "version": 3
   },
   "file_extension": ".py",
   "mimetype": "text/x-python",
   "name": "python",
   "nbconvert_exporter": "python",
   "pygments_lexer": "ipython3",
   "version": "3.9.6"
  }
 },
 "nbformat": 4,
 "nbformat_minor": 2
}
