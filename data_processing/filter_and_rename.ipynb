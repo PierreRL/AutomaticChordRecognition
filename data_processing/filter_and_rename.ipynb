{
 "cells": [
  {
   "cell_type": "markdown",
   "metadata": {},
   "source": [
    "# Filter and Rename\n",
    "\n",
    "This notebook filters the songs in the dataset based on if they are duplicates. Duplicates are detected as a combination of artist and title from the metadata of the JAMS file.\n",
    "\n",
    "Files are then renamed to be '{artist}_{title}'. If no metadata is available (~150 files) the original obfuscated file name is kept.\n",
    "\n",
    "The notebook currently performs this operation on the audio and chords of the processed forms of the data."
   ]
  },
  {
   "cell_type": "code",
   "execution_count": 1,
   "metadata": {},
   "outputs": [],
   "source": [
    "import autorootcwd\n",
    "import jams\n",
    "import os\n",
    "\n",
    "with open('./data/raw/audio/filelist.txt', 'r') as f:\n",
    "    filenames = f.read().splitlines()\n",
    "\n",
    "# Just get the root filename\n",
    "filenames = [os.path.splitext(os.path.basename(f))[0] for f in filenames]"
   ]
  },
  {
   "cell_type": "code",
   "execution_count": 2,
   "metadata": {},
   "outputs": [],
   "source": [
    "# for each filename, open the jams file and get the metadata\n",
    "def get_metadata(filename):\n",
    "    jam = jams.load('./data/raw/references_v2/' + filename + '.jams')\n",
    "    metadata = jam.file_metadata\n",
    "    artist = metadata.artist\n",
    "    title = metadata.title\n",
    "    # Strip, remove spaces and slashes and lowercase\n",
    "    artist, title = artist.lower(), title.lower()\n",
    "    artist, title = artist.strip(), title.strip()\n",
    "    artist, title = artist.replace(' ', ''), title.replace(' ', '')\n",
    "    artist, title = artist.replace('/', ''), title.replace('/', '')\n",
    "    artist, title = artist.replace('.', ''), title.replace('.', '')\n",
    "    \n",
    "    duration = metadata.duration\n",
    "\n",
    "    new_filename = f'{artist}_{title}'\n",
    "    if artist == '' and title == '':\n",
    "        new_filename = filename\n",
    "    \n",
    "    return {'new_filename': new_filename, 'artist': artist, 'title': title, 'filename': filename, 'duration': duration}\n",
    "\n",
    "# Construct dict for each file\n",
    "metadata = [get_metadata(f) for f in filenames]"
   ]
  },
  {
   "cell_type": "code",
   "execution_count": 3,
   "metadata": {},
   "outputs": [],
   "source": [
    "# Keep only the first instance of each new_filename\n",
    "metadata = {m['new_filename']: m for m in metadata}\n",
    "\n",
    "# Create new dict of old_filename -> new_filename\n",
    "filename_map = {m['filename']: m['new_filename'] for m in metadata.values()}"
   ]
  },
  {
   "cell_type": "code",
   "execution_count": 12,
   "metadata": {},
   "outputs": [],
   "source": [
    "# Copy files to new directory\n",
    "import shutil\n",
    "from tqdm import tqdm\n",
    "\n",
    "def rename_copy_files(old_dir: str, new_dir: str, extension:str) -> None:\n",
    "    errored_files = []\n",
    "    for old_filename, new_filename in tqdm(filename_map.items()):\n",
    "        try:\n",
    "            shutil.copy(f'{old_dir}/{old_filename}.{extension}', f'{new_dir}/{new_filename}.{extension}')\n",
    "        except Exception as e:\n",
    "            print(e)\n",
    "            errored_files.append(old_filename)\n",
    "\n",
    "    return errored_files"
   ]
  },
  {
   "cell_type": "code",
   "execution_count": 13,
   "metadata": {},
   "outputs": [
    {
     "name": "stderr",
     "output_type": "stream",
     "text": [
      "100%|██████████| 1213/1213 [00:11<00:00, 102.02it/s]\n"
     ]
    }
   ],
   "source": [
    "errored_files = rename_copy_files('./data/raw/audio', './data/processed/audio', 'mp3')"
   ]
  },
  {
   "cell_type": "code",
   "execution_count": 14,
   "metadata": {},
   "outputs": [
    {
     "name": "stderr",
     "output_type": "stream",
     "text": [
      "100%|██████████| 1213/1213 [00:00<00:00, 1399.36it/s]\n"
     ]
    }
   ],
   "source": [
    "errored_chords = rename_copy_files('./data/raw/references_v2', './data/processed/chords', 'jams')"
   ]
  },
  {
   "cell_type": "code",
   "execution_count": 15,
   "metadata": {},
   "outputs": [
    {
     "data": {
      "text/plain": [
       "(0, 0)"
      ]
     },
     "execution_count": 15,
     "metadata": {},
     "output_type": "execute_result"
    }
   ],
   "source": [
    "len(errored_files), len(errored_chords)"
   ]
  }
 ],
 "metadata": {
  "kernelspec": {
   "display_name": "UG4Diss",
   "language": "python",
   "name": "python3"
  },
  "language_info": {
   "codemirror_mode": {
    "name": "ipython",
    "version": 3
   },
   "file_extension": ".py",
   "mimetype": "text/x-python",
   "name": "python",
   "nbconvert_exporter": "python",
   "pygments_lexer": "ipython3",
   "version": "3.9.6"
  }
 },
 "nbformat": 4,
 "nbformat_minor": 2
}
