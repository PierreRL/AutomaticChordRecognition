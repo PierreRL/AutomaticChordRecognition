{
 "cells": [
  {
   "cell_type": "code",
   "execution_count": 1,
   "metadata": {},
   "outputs": [],
   "source": [
    "%reload_ext autoreload\n",
    "%autoreload 2"
   ]
  },
  {
   "cell_type": "code",
   "execution_count": 2,
   "metadata": {},
   "outputs": [],
   "source": [
    "import autorootcwd\n",
    "import torch\n",
    "from src.utils import transpose_chord_id_vector, get_split_filenames"
   ]
  },
  {
   "cell_type": "code",
   "execution_count": 3,
   "metadata": {},
   "outputs": [],
   "source": [
    "from src.data.dataset import FullChordDataset"
   ]
  },
  {
   "cell_type": "code",
   "execution_count": 4,
   "metadata": {},
   "outputs": [],
   "source": [
    "fs = get_split_filenames()[0]"
   ]
  },
  {
   "cell_type": "code",
   "execution_count": 5,
   "metadata": {},
   "outputs": [],
   "source": [
    "d = FullChordDataset(get_split_filenames()[0], gen_layer=None)"
   ]
  },
  {
   "cell_type": "code",
   "execution_count": 6,
   "metadata": {},
   "outputs": [
    {
     "name": "stdout",
     "output_type": "stream",
     "text": [
      "['N', 'N', 'N', 'N', 'N', 'N', 'N', 'N', 'N', 'N', 'A#:maj', 'A#:maj', 'A#:maj', 'A#:maj', 'A#:maj', 'A#:maj', 'A#:maj', 'A#:maj', 'A#:maj', 'A#:maj', 'A#:maj', 'A#:maj', 'A#:maj', 'A#:maj', 'A#:maj', 'A#:maj', 'A#:maj', 'A#:maj', 'A#:maj', 'A#:maj', 'A#:maj', 'A#:maj', 'A#:maj', 'A#:maj', 'G:min', 'G:min', 'G:min', 'G:min', 'G:min', 'G:min', 'G:min', 'G:min', 'F:7', 'F:7', 'F:7', 'F:7', 'F:7', 'F:7', 'F:7', 'F:7', 'F:7', 'F:7', 'F:7', 'F:7', 'F:7', 'F:7', 'F:7', 'F:7', 'F:7', 'F:7', 'F:7', 'F:7', 'F:7', 'F:7', 'F:7', 'F:7', 'F:7', 'F:7', 'F:7', 'F:7', 'F:7', 'F:7', 'F:7', 'A#:maj', 'A#:maj', 'A#:maj', 'A#:maj', 'A#:maj', 'A#:maj', 'A#:maj', 'A#:maj', 'A#:maj', 'A#:maj', 'A#:maj', 'A#:maj', 'A#:maj', 'A#:maj', 'A#:maj', 'A#:maj', 'A#:maj', 'A#:maj', 'A#:maj', 'A#:maj', 'A#:maj', 'A#:maj', 'A#:maj', 'A#:maj', 'A#:maj', 'A#:maj', 'A#:maj', 'A#:maj', 'A#:maj', 'A#:maj', 'A#:maj', 'A#:maj', 'A#:maj', 'A#:maj', 'A#:maj', 'A#:maj', 'A#:maj', 'A#:maj', 'A#:maj', 'A#:maj', 'A#:maj', 'A#:maj', 'A#:maj', 'A#:maj', 'A#:maj', 'A#:maj', 'A#:maj', 'A#:maj', 'A#:maj', 'A#:maj', 'A#:maj', 'A#:maj', 'A#:maj', 'A#:maj', 'A#:maj', 'A#:maj', 'A#:maj', 'A#:maj', 'A#:maj', 'A#:maj', 'A#:maj', 'A#:maj', 'A#:maj', 'A#:maj', 'A#:maj', 'A#:maj', 'A#:maj', 'A#:maj', 'A#:maj', 'A#:maj', 'A#:maj', 'A#:maj', 'A#:maj', 'A#:maj', 'A#:maj', 'A#:maj', 'A#:maj', 'A#:maj', 'A#:maj', 'A#:maj', 'A#:maj', 'A#:maj', 'A#:maj', 'A#:maj', 'A#:maj', 'A#:maj', 'A#:maj', 'A#:maj', 'A#:maj', 'A#:maj', 'A#:maj', 'A#:maj', 'A#:maj', 'A#:maj', 'D#:maj', 'D#:maj', 'D#:maj', 'D#:maj', 'D#:maj', 'D#:maj', 'D#:maj', 'D#:maj', 'D#:maj', 'D#:maj', 'D#:maj', 'D#:maj', 'D#:maj', 'D#:maj', 'D#:maj', 'D#:maj', 'D#:maj', 'D#:maj', 'D#:maj', 'D#:maj', 'D#:maj', 'D#:maj', 'D#:maj', 'D#:maj', 'D#:maj', 'D#:maj', 'D#:maj', 'D#:maj', 'D#:maj', 'D#:maj', 'D#:maj', 'A#:maj', 'A#:maj', 'A#:maj', 'A#:maj', 'A#:maj', 'A#:maj', 'A#:maj', 'A#:maj', 'A#:maj', 'A#:maj', 'A#:maj', 'A#:maj', 'A#:maj', 'A#:maj', 'A#:maj', 'A#:maj', 'A#:maj', 'A#:maj', 'A#:maj', 'A#:maj', 'A#:maj', 'A#:maj', 'A#:maj', 'A#:maj', 'A#:maj', 'A#:maj', 'A#:maj', 'A#:maj', 'A#:maj', 'A#:maj', 'A#:maj', 'A#:maj', 'A#:maj', 'A#:maj', 'A#:maj', 'A#:maj', 'A#:maj', 'A#:maj', 'A#:maj', 'A#:maj', 'A#:maj', 'A#:maj', 'A#:maj', 'A#:maj', 'A#:maj', 'A#:maj', 'A#:maj', 'A#:maj', 'A#:maj', 'A#:maj', 'A#:maj', 'A#:maj', 'A#:maj', 'A#:maj', 'A#:maj', 'A#:maj', 'A#:maj', 'A#:maj', 'A#:maj', 'A#:maj', 'A#:maj', 'A#:maj', 'A#:maj', 'A#:maj', 'A#:maj', 'A#:maj', 'A#:maj', 'A#:maj', 'A#:maj', 'A#:maj', 'A#:maj', 'A#:maj', 'A#:maj', 'A#:maj', 'A#:maj', 'A#:maj', 'A#:maj', 'A#:maj', 'A#:maj', 'A#:maj', 'A#:maj', 'A#:maj', 'A#:maj', 'A#:maj', 'A#:maj', 'A#:maj', 'A#:maj', 'A#:maj', 'A#:maj', 'A#:maj', 'A#:maj', 'A#:maj', 'A#:maj', 'A#:maj', 'F:7', 'F:7', 'F:7', 'F:7', 'F:7', 'F:7', 'F:7', 'F:7', 'F:7', 'F:7', 'F:7', 'F:7', 'F:7', 'F:7', 'F:7', 'F:7', 'F:7', 'F:7', 'F:7', 'F:7', 'F:7', 'F:7', 'F:7', 'F:7', 'F:7', 'F:7', 'F:7', 'F:7', 'F:7', 'F:7', 'F:7', 'A#:maj', 'A#:maj', 'A#:maj', 'A#:maj', 'A#:maj', 'A#:maj', 'A#:maj', 'A#:maj', 'A#:maj', 'A#:maj', 'A#:maj', 'A#:maj', 'A#:maj', 'A#:maj', 'A#:maj', 'A#:maj', 'A#:maj', 'A#:maj', 'A#:maj', 'A#:maj', 'A#:maj', 'A#:maj', 'A#:maj', 'A#:maj', 'A#:maj', 'A#:maj', 'A#:maj', 'A#:maj', 'A#:maj', 'A#:maj', 'A#:maj', 'A#:maj', 'A#:maj', 'A#:maj', 'A#:maj', 'A#:maj', 'A#:maj', 'A#:maj', 'A#:maj', 'A#:maj', 'A#:maj', 'A#:maj', 'A#:maj', 'A#:maj', 'A#:maj', 'A#:maj', 'A#:maj', 'A#:maj', 'A#:maj', 'A#:maj', 'A#:maj', 'A#:maj', 'A#:maj', 'A#:maj', 'A#:maj', 'A#:maj', 'A#:maj', 'A#:maj', 'A#:maj', 'A#:maj', 'A#:maj', 'A#:maj', 'A#:maj', 'A#:maj', 'A#:maj', 'A#:maj', 'A#:maj', 'A#:maj', 'A#:maj', 'A#:maj', 'A#:maj', 'A#:maj', 'A#:maj', 'A#:maj', 'A#:maj', 'A#:maj', 'A#:maj', 'A#:maj', 'A#:maj', 'A#:maj', 'A#:maj', 'A#:maj', 'A#:maj', 'A#:maj', 'A#:maj', 'A#:maj', 'A#:maj', 'A#:maj', 'A#:maj', 'A#:maj', 'A#:maj', 'A#:maj', 'A#:maj', 'A#:7', 'A#:7', 'A#:7', 'A#:7', 'A#:7', 'A#:7', 'A#:7', 'A#:7', 'A#:7', 'A#:7', 'A#:7', 'A#:7', 'A#:7', 'A#:7', 'A#:7', 'A#:7', 'A#:7', 'A#:7', 'A#:7', 'A#:7', 'A#:7', 'A#:7', 'A#:7', 'A#:7', 'A#:7', 'A#:7', 'A#:7', 'A#:7', 'A#:7', 'A#:7', 'A#:7', 'A#:7', 'D#:maj', 'D#:maj', 'D#:maj', 'D#:maj', 'D#:maj', 'D#:maj', 'D#:maj', 'D#:maj', 'D#:maj', 'D#:maj', 'D#:maj', 'D#:maj', 'D#:maj', 'D#:maj', 'D#:maj', 'D#:maj', 'D#:maj', 'D#:maj', 'D#:maj', 'D#:maj', 'D#:maj', 'D#:maj', 'D#:maj', 'D#:maj', 'D#:maj', 'D#:maj', 'D#:maj', 'D#:maj', 'D#:maj', 'D#:maj', 'D#:maj', 'D#:maj', 'D#:maj', 'D#:maj', 'D#:maj', 'D#:maj', 'D#:maj', 'D#:maj', 'D#:maj', 'D#:maj', 'D#:maj', 'D#:maj', 'D#:maj', 'D#:maj', 'D#:maj', 'D#:maj', 'D#:maj', 'D#:maj', 'D#:maj', 'D#:maj', 'D#:maj', 'D#:maj', 'D#:maj', 'D#:maj', 'D#:maj', 'D#:maj', 'D#:maj', 'D#:maj', 'D#:maj', 'D#:maj', 'D#:maj', 'D#:maj', 'A#:maj', 'A#:maj', 'A#:maj', 'A#:maj', 'A#:maj', 'A#:maj', 'A#:maj', 'A#:maj', 'A#:maj', 'A#:maj', 'A#:maj', 'A#:maj', 'A#:maj', 'A#:maj', 'A#:maj', 'A#:maj', 'A#:maj', 'A#:maj', 'A#:maj', 'A#:maj', 'A#:maj', 'A#:maj', 'A#:maj', 'A#:maj', 'A#:maj', 'A#:maj', 'A#:maj', 'A#:maj', 'A#:maj', 'A#:maj', 'A#:maj', 'F:7', 'F:7', 'F:7', 'F:7', 'F:7', 'F:7', 'F:7', 'F:7', 'F:7', 'F:7', 'F:7', 'F:7', 'F:7', 'F:7', 'F:7', 'F:7', 'F:7', 'F:7', 'F:7', 'F:7', 'F:7', 'F:7', 'F:7', 'F:7', 'F:7', 'F:7', 'F:7', 'F:7', 'F:7', 'F:7', 'F:7', 'A#:maj', 'A#:maj', 'A#:maj', 'A#:maj', 'A#:maj', 'A#:maj', 'A#:maj', 'A#:maj', 'A#:maj', 'A#:maj', 'A#:maj', 'A#:maj', 'A#:maj', 'A#:maj', 'A#:maj', 'A#:maj', 'A#:maj', 'A#:maj', 'A#:maj', 'A#:maj', 'A#:maj', 'A#:maj', 'A#:maj', 'A#:maj', 'A#:maj', 'A#:maj', 'A#:maj', 'A#:maj', 'A#:maj', 'A#:maj', 'A#:maj', 'A#:maj', 'A#:maj', 'A#:maj', 'A#:maj', 'A#:maj', 'A#:maj', 'A#:maj', 'A#:maj', 'A#:maj', 'A#:maj', 'A#:maj', 'A#:maj', 'A#:maj', 'A#:maj', 'A#:maj', 'A#:maj', 'A#:maj', 'A#:maj', 'A#:maj', 'A#:maj', 'A#:maj', 'A#:maj', 'A#:maj', 'A#:maj', 'A#:maj', 'A#:maj', 'A#:maj', 'A#:maj', 'A#:maj', 'A#:maj', 'A#:maj', 'A#:maj', 'A#:maj', 'A#:maj', 'A#:maj', 'A#:maj', 'A#:maj', 'A#:maj', 'A#:maj', 'A#:maj', 'A#:maj', 'A#:maj', 'A#:maj', 'A#:maj', 'A#:maj', 'A#:maj', 'A#:maj', 'A#:maj', 'A#:maj', 'A#:maj', 'A#:maj', 'A#:maj', 'A#:maj', 'A#:maj', 'A#:maj', 'A#:maj', 'A#:maj', 'A#:maj', 'A#:maj', 'A#:maj', 'A#:maj', 'A#:maj', 'D#:maj', 'D#:maj', 'D#:maj', 'D#:maj', 'D#:maj', 'D#:maj', 'D#:maj', 'D#:maj', 'D#:maj', 'D#:maj', 'D#:maj', 'D#:maj', 'D#:maj', 'D#:maj', 'D#:maj', 'D#:maj', 'D#:maj', 'D#:maj', 'D#:maj', 'D#:maj', 'D#:maj', 'D#:maj', 'D#:maj', 'D#:maj', 'D#:maj', 'D#:maj', 'D#:maj', 'D#:maj', 'D#:maj', 'D#:maj', 'D#:maj', 'D#:maj', 'A#:maj', 'A#:maj', 'A#:maj', 'A#:maj', 'A#:maj', 'A#:maj', 'A#:maj', 'A#:maj', 'A#:maj', 'A#:maj', 'A#:maj', 'A#:maj', 'A#:maj', 'A#:maj', 'A#:maj', 'A#:maj', 'A#:maj', 'A#:maj', 'A#:maj', 'A#:maj', 'A#:maj', 'A#:maj', 'A#:maj', 'A#:maj', 'A#:maj', 'A#:maj', 'A#:maj', 'A#:maj', 'A#:maj', 'A#:maj', 'A#:maj', 'A#:maj', 'A#:maj', 'A#:maj', 'A#:maj', 'A#:maj', 'A#:maj', 'A#:maj', 'A#:maj', 'A#:maj', 'A#:maj', 'A#:maj', 'A#:maj', 'A#:maj', 'A#:maj', 'A#:maj', 'A#:maj', 'A#:maj', 'A#:maj', 'A#:maj', 'A#:maj', 'A#:maj', 'A#:maj', 'A#:maj', 'A#:maj', 'A#:maj', 'A#:maj', 'A#:maj', 'A#:maj', 'A#:maj', 'A#:maj', 'A#:maj', 'A#:maj', 'A#:maj', 'A#:maj', 'A#:maj', 'A#:maj', 'A#:maj', 'A#:maj', 'A#:maj', 'A#:maj', 'A#:maj', 'A#:maj', 'A#:maj', 'A#:maj', 'A#:maj', 'A#:maj', 'A#:maj', 'A#:maj', 'A#:maj', 'A#:maj', 'A#:maj', 'A#:maj', 'A#:maj', 'A#:maj', 'A#:maj', 'A#:maj', 'A#:maj', 'A#:maj', 'A#:maj', 'A#:maj', 'A#:maj', 'A#:maj', 'F:7', 'F:7', 'F:7', 'F:7', 'F:7', 'F:7', 'F:7', 'F:7', 'F:7', 'F:7', 'F:7', 'F:7', 'F:7', 'F:7', 'F:7', 'F:7', 'F:7', 'F:7', 'F:7', 'F:7', 'F:7', 'F:7', 'F:7', 'F:7', 'F:7', 'F:7', 'F:7', 'F:7', 'F:7', 'F:7', 'F:7', 'A#:maj', 'A#:maj', 'A#:maj', 'A#:maj', 'A#:maj', 'A#:maj', 'A#:maj', 'A#:maj', 'A#:maj', 'A#:maj', 'A#:maj', 'A#:maj', 'A#:maj', 'A#:maj', 'A#:maj', 'A#:maj', 'A#:maj', 'A#:maj', 'A#:maj', 'A#:maj', 'A#:maj', 'A#:maj', 'A#:maj', 'A#:maj', 'A#:maj', 'A#:maj', 'A#:maj', 'A#:maj', 'A#:maj', 'A#:maj', 'A#:maj', 'A#:maj', 'A#:maj', 'A#:maj', 'A#:maj', 'A#:maj', 'A#:maj', 'A#:maj', 'A#:maj', 'A#:maj', 'A#:maj', 'A#:maj', 'A#:maj', 'A#:maj', 'A#:maj', 'A#:maj', 'A#:maj', 'A#:maj', 'A#:maj', 'A#:maj', 'A#:maj', 'A#:maj', 'A#:maj', 'A#:maj', 'A#:maj', 'A#:maj', 'A#:maj', 'A#:maj', 'A#:maj', 'A#:maj', 'A#:maj', 'A#:maj', 'A#:maj', 'A#:maj', 'A#:maj', 'A#:maj', 'A#:maj', 'A#:maj', 'A#:maj', 'A#:maj', 'A#:maj', 'A#:maj', 'A#:maj', 'A#:maj', 'A#:maj', 'A#:maj', 'A#:maj', 'A#:maj', 'A#:maj', 'A#:maj', 'A#:maj', 'A#:maj', 'A#:maj', 'A#:maj', 'A#:maj', 'A#:maj', 'A#:maj', 'A#:maj', 'A#:maj', 'A#:maj', 'A#:maj', 'A#:maj', 'A#:maj', 'A#:7', 'A#:7', 'A#:7', 'A#:7', 'A#:7', 'A#:7', 'A#:7', 'A#:7', 'A#:7', 'A#:7', 'A#:7', 'A#:7', 'A#:7', 'A#:7', 'A#:7', 'A#:7', 'A#:7', 'A#:7', 'A#:7', 'A#:7', 'A#:7', 'A#:7', 'A#:7', 'A#:7', 'A#:7', 'A#:7', 'A#:7', 'A#:7', 'A#:7', 'A#:7', 'A#:7', 'D#:maj', 'D#:maj', 'D#:maj', 'D#:maj', 'D#:maj', 'D#:maj', 'D#:maj', 'D#:maj', 'D#:maj', 'D#:maj', 'D#:maj', 'D#:maj', 'D#:maj', 'D#:maj', 'D#:maj', 'D#:maj', 'D#:maj', 'D#:maj', 'D#:maj', 'D#:maj', 'D#:maj', 'D#:maj', 'D#:maj', 'D#:maj', 'D#:maj', 'D#:maj', 'D#:maj', 'D#:maj', 'D#:maj', 'D#:maj', 'D#:maj', 'D#:maj', 'D#:maj', 'D#:maj', 'D#:maj', 'D#:maj', 'D#:maj', 'D#:maj', 'D#:maj', 'D#:maj', 'D#:maj', 'D#:maj', 'D#:maj', 'D#:maj', 'D#:maj', 'D#:maj', 'D#:maj', 'D#:maj', 'D#:maj', 'D#:maj', 'D#:maj', 'D#:maj', 'D#:maj', 'D#:maj', 'D#:maj', 'D#:maj', 'D#:maj', 'D#:maj', 'D#:maj', 'D#:maj', 'D#:maj', 'D#:maj', 'A#:maj', 'A#:maj', 'A#:maj', 'A#:maj', 'A#:maj', 'A#:maj', 'A#:maj', 'A#:maj', 'A#:maj', 'A#:maj', 'A#:maj', 'A#:maj', 'A#:maj', 'A#:maj', 'A#:maj', 'A#:maj', 'A#:maj', 'A#:maj', 'A#:maj', 'A#:maj', 'A#:maj', 'A#:maj', 'A#:maj', 'A#:maj', 'A#:maj', 'A#:maj', 'A#:maj', 'A#:maj', 'A#:maj', 'A#:maj', 'A#:maj', 'F:7', 'F:7', 'F:7', 'F:7', 'F:7', 'F:7', 'F:7', 'F:7', 'F:7', 'F:7', 'F:7', 'F:7', 'F:7', 'F:7', 'F:7', 'F:7', 'F:7', 'F:7', 'F:7', 'F:7', 'F:7', 'F:7', 'F:7', 'F:7', 'F:7', 'F:7', 'F:7', 'F:7', 'F:7', 'F:7', 'F:7', 'F:7', 'A#:maj', 'A#:maj', 'A#:maj', 'A#:maj', 'A#:maj', 'A#:maj', 'A#:maj', 'A#:maj', 'A#:maj', 'A#:maj', 'A#:maj', 'A#:maj', 'A#:maj', 'A#:maj', 'A#:maj', 'A#:maj', 'A#:maj', 'A#:maj', 'A#:maj', 'A#:maj', 'A#:maj', 'A#:maj', 'A#:maj', 'A#:maj', 'A#:maj', 'A#:maj', 'A#:maj', 'A#:maj', 'A#:maj', 'A#:maj', 'A#:maj', 'A#:maj', 'A#:maj', 'A#:maj', 'A#:maj', 'A#:maj', 'A#:maj', 'A#:maj', 'A#:maj', 'A#:maj', 'A#:maj', 'A#:maj', 'A#:maj', 'A#:maj', 'A#:maj', 'A#:maj', 'A#:maj', 'A#:7', 'A#:7', 'A#:7', 'A#:7', 'A#:7', 'A#:7', 'A#:7', 'A#:7', 'A#:7', 'A#:7', 'A#:7', 'A#:7', 'A#:7', 'A#:7', 'A#:7', 'D#:maj', 'D#:maj', 'D#:maj', 'D#:maj', 'D#:maj', 'D#:maj', 'D#:maj', 'D#:maj', 'D#:maj', 'D#:maj', 'D#:maj', 'D#:maj', 'D#:maj', 'D#:maj', 'D#:maj', 'D#:maj', 'D#:maj', 'D#:maj', 'D#:maj', 'D#:maj', 'D#:maj', 'D#:maj', 'D#:maj', 'D#:maj', 'D#:maj', 'D#:maj', 'D#:maj', 'D#:maj', 'D#:maj', 'D#:maj', 'D#:maj', 'D#:maj', 'D#:maj', 'D#:maj', 'D#:maj', 'D#:maj', 'D#:maj', 'D#:maj', 'D#:maj', 'D#:maj', 'D#:maj', 'D#:maj', 'D#:maj', 'D#:maj', 'D#:maj', 'D#:maj', 'D#:maj', 'D#:maj', 'D#:maj', 'D#:maj', 'D#:maj', 'D#:maj', 'D#:maj', 'D#:maj', 'D#:maj', 'D#:maj', 'D#:maj', 'D#:maj', 'D#:maj', 'D#:maj', 'D#:maj', 'D#:maj', 'A#:maj', 'A#:maj', 'A#:maj', 'A#:maj', 'A#:maj', 'A#:maj', 'A#:maj', 'A#:maj', 'A#:maj', 'A#:maj', 'A#:maj', 'A#:maj', 'A#:maj', 'A#:maj', 'A#:maj', 'A#:maj', 'A#:maj', 'A#:maj', 'A#:maj', 'A#:maj', 'A#:maj', 'A#:maj', 'A#:maj', 'A#:maj', 'A#:maj', 'A#:maj', 'A#:maj', 'A#:maj', 'A#:maj', 'A#:maj', 'A#:maj', 'A#:maj', 'A#:maj', 'A#:maj', 'A#:maj', 'A#:maj', 'A#:maj', 'A#:maj', 'A#:maj', 'A#:maj', 'A#:maj', 'A#:maj', 'A#:maj', 'A#:maj', 'A#:maj', 'A#:maj', 'A#:maj', 'A#:maj', 'A#:maj', 'A#:maj', 'A#:maj', 'A#:maj', 'A#:maj', 'A#:maj', 'A#:maj', 'A#:maj', 'A#:maj', 'A#:maj', 'A#:maj', 'A#:maj', 'A#:maj', 'A#:maj', 'A#:maj', 'C:7', 'C:7', 'C:7', 'C:7', 'C:7', 'C:7', 'C:7', 'C:7', 'C:7', 'C:7', 'C:7', 'C:7', 'C:7', 'C:7', 'C:7', 'C:7', 'C:7', 'C:7', 'C:7', 'C:7', 'C:7', 'C:7', 'C:7', 'C:7', 'C:7', 'C:7', 'C:7', 'C:7', 'C:7', 'C:7', 'C:7', 'C:7', 'C:7', 'C:7', 'C:7', 'C:7', 'C:7', 'C:7', 'C:7', 'C:7', 'C:7', 'C:7', 'C:7', 'C:7', 'C:7', 'C:7', 'C:7', 'C:7', 'C:7', 'C:7', 'C:7', 'C:7', 'C:7', 'C:7', 'C:7', 'C:7', 'C:7', 'C:7', 'C:7', 'C:7', 'C:7', 'F:7', 'F:7', 'F:7', 'F:7', 'F:7', 'F:7', 'F:7', 'F:7', 'F:7', 'F:7', 'F:7', 'F:7', 'F:7', 'F:7', 'F:7', 'F:7', 'F:7', 'F:7', 'F:7', 'F:7', 'F:7', 'F:7', 'F:7', 'F:7', 'F:7', 'F:7', 'F:7', 'F:7', 'F:7', 'F:7', 'F:7', 'F:7', 'F:7', 'F:7', 'F:7', 'F:7', 'F:7', 'F:7', 'F:7', 'F:7', 'F:7', 'F:7', 'F:7', 'F:7', 'F:7', 'F:7', 'F:7', 'F:7', 'F:7', 'F:7', 'F:7', 'F:7', 'F:7', 'F:7', 'F:7', 'F:7', 'F:7', 'F:7', 'F:7', 'F:7', 'F:7', 'F:7', 'D#:maj', 'D#:maj', 'D#:maj', 'D#:maj', 'D#:maj', 'D#:maj', 'D#:maj', 'D#:maj', 'D#:maj', 'D#:maj', 'D#:maj', 'D#:maj', 'D#:maj', 'D#:maj', 'D#:maj', 'D#:maj', 'D#:maj', 'D#:maj', 'D#:maj', 'D#:maj', 'D#:maj', 'D#:maj', 'D#:maj', 'D#:maj', 'D#:maj', 'D#:maj', 'D#:maj', 'D#:maj', 'D#:maj', 'D#:maj', 'D#:maj', 'D#:maj', 'D#:maj', 'D#:maj', 'D#:maj', 'D#:maj', 'D#:maj', 'D#:maj', 'D#:maj', 'D#:maj', 'D#:maj', 'D#:maj', 'D#:maj', 'D#:maj', 'D#:maj', 'D#:maj', 'D#:maj', 'D#:maj', 'D#:maj', 'D#:maj', 'D#:maj', 'D#:maj', 'D#:maj', 'D#:maj', 'D#:maj', 'D#:maj', 'D#:maj', 'D#:maj', 'D#:maj', 'D#:maj', 'D#:maj', 'D#:maj', 'A#:maj', 'A#:maj', 'A#:maj', 'A#:maj', 'A#:maj', 'A#:maj', 'A#:maj', 'A#:maj', 'A#:maj', 'A#:maj', 'A#:maj', 'A#:maj', 'A#:maj', 'A#:maj', 'A#:maj', 'A#:maj', 'A#:maj', 'A#:maj', 'A#:maj', 'A#:maj', 'A#:maj', 'A#:maj', 'A#:maj', 'A#:maj', 'A#:maj', 'A#:maj', 'A#:maj', 'A#:maj', 'A#:maj', 'A#:maj', 'A#:maj', 'A#:maj', 'A#:maj', 'A#:maj', 'A#:maj', 'A#:maj', 'A#:maj', 'A#:maj', 'A#:maj', 'A#:maj', 'A#:maj', 'A#:maj', 'A#:maj', 'A#:maj', 'A#:maj', 'A#:maj', 'A#:maj', 'A#:maj', 'A#:maj', 'A#:maj', 'A#:maj', 'A#:maj', 'A#:maj', 'A#:maj', 'A#:maj', 'A#:maj', 'A#:maj', 'A#:maj', 'A#:maj', 'A#:maj', 'A#:maj', 'A#:maj', 'C:maj', 'C:maj', 'C:maj', 'C:maj', 'C:maj', 'C:maj', 'C:maj', 'C:maj', 'C:maj', 'C:maj', 'C:maj', 'C:maj', 'C:maj', 'C:maj', 'C:maj', 'C:maj', 'C:maj', 'C:maj', 'C:maj', 'C:maj', 'C:maj', 'C:maj', 'C:maj', 'C:maj', 'C:maj', 'C:maj', 'C:maj', 'C:maj', 'C:maj', 'C:maj', 'C:maj', 'C:7', 'C:7', 'C:7', 'C:7', 'C:7', 'C:7', 'C:7', 'C:7', 'C:7', 'C:7', 'C:7', 'C:7', 'C:7', 'C:7', 'C:7', 'C:7', 'C:7', 'C:7', 'C:7', 'C:7', 'C:7', 'C:7', 'C:7', 'C:7', 'C:7', 'C:7', 'C:7', 'C:7', 'C:7', 'C:7', 'C:7', 'F:7', 'F:7', 'F:7', 'F:7', 'F:7', 'F:7', 'F:7', 'F:7', 'F:7', 'F:7', 'F:7', 'F:7', 'F:7', 'F:7', 'F:7', 'F:7', 'F:7', 'F:7', 'F:7', 'F:7', 'F:7', 'F:7', 'F:7', 'F:7', 'F:7', 'F:7', 'F:7', 'F:7', 'F:7', 'F:7', 'F:7', 'F:7', 'F:7', 'F:7', 'F:7', 'F:7', 'F:7', 'F:7', 'F:7', 'F:7', 'F:7', 'F:7', 'F:7', 'F:7', 'F:7', 'F:7', 'F:7', 'F:7', 'F:7', 'F:7', 'F:7', 'F:7', 'F:7', 'F:7', 'F:7', 'F:7', 'F:7', 'F:7', 'F:7', 'F:7', 'F:7', 'F:7', 'A#:maj', 'A#:maj', 'A#:maj', 'A#:maj', 'A#:maj', 'A#:maj', 'A#:maj', 'A#:maj', 'A#:maj', 'A#:maj', 'A#:maj', 'A#:maj', 'A#:maj', 'A#:maj', 'A#:maj', 'A#:maj', 'A#:maj', 'A#:maj', 'A#:maj', 'A#:maj', 'A#:maj', 'A#:maj', 'A#:maj', 'A#:maj', 'A#:maj', 'A#:maj', 'A#:maj', 'A#:maj', 'A#:maj', 'A#:maj', 'A#:maj', 'D#:maj', 'D#:maj', 'D#:maj', 'D#:maj', 'D#:maj', 'D#:maj', 'D#:maj', 'D#:maj', 'D#:maj', 'D#:maj', 'D#:maj', 'D#:maj', 'D#:maj', 'D#:maj', 'D#:maj', 'D#:maj', 'D#:maj', 'D#:maj', 'D#:maj', 'D#:maj', 'D#:maj', 'D#:maj', 'D#:maj', 'D#:maj', 'D#:maj', 'D#:maj', 'D#:maj', 'D#:maj', 'D#:maj', 'D#:maj', 'D#:maj', 'A#:maj', 'A#:maj', 'A#:maj', 'A#:maj', 'A#:maj', 'A#:maj', 'A#:maj', 'A#:maj', 'A#:maj', 'A#:maj', 'A#:maj', 'A#:maj', 'A#:maj', 'A#:maj', 'A#:maj', 'A#:maj', 'A#:maj', 'A#:maj', 'A#:maj', 'A#:maj', 'A#:maj', 'A#:maj', 'A#:maj', 'A#:maj', 'A#:maj', 'A#:maj', 'A#:maj', 'A#:maj', 'A#:maj', 'A#:maj', 'A#:maj', 'A#:maj', 'A#:maj', 'A#:maj', 'A#:maj', 'A#:maj', 'A#:maj', 'A#:maj', 'A#:maj', 'A#:maj', 'A#:maj', 'A#:maj', 'A#:maj', 'A#:maj', 'A#:maj', 'A#:maj', 'A#:maj', 'A#:maj', 'A#:maj', 'A#:maj', 'A#:maj', 'A#:maj', 'A#:maj', 'A#:maj', 'A#:maj', 'A#:maj', 'A#:maj', 'A#:maj', 'A#:maj', 'A#:maj', 'A#:maj', 'A#:maj', 'A#:maj', 'A#:maj', 'A#:maj', 'A#:maj', 'A#:maj', 'A#:maj', 'A#:maj', 'A#:maj', 'A#:maj', 'A#:maj', 'A#:maj', 'A#:maj', 'A#:maj', 'A#:maj', 'A#:maj', 'A#:maj', 'A#:maj', 'A#:maj', 'A#:maj', 'A#:maj', 'A#:maj', 'A#:maj', 'A#:maj', 'A#:maj', 'A#:maj', 'A#:maj', 'A#:maj', 'A#:maj', 'A#:maj', 'A#:maj', 'A#:maj', 'A#:maj', 'F:7', 'F:7', 'F:7', 'F:7', 'F:7', 'F:7', 'F:7', 'F:7', 'F:7', 'F:7', 'F:7', 'F:7', 'F:7', 'F:7', 'F:7', 'F:7', 'F:7', 'F:7', 'F:7', 'F:7', 'F:7', 'F:7', 'F:7', 'F:7', 'F:7', 'F:7', 'F:7', 'F:7', 'F:7', 'F:7', 'F:7', 'A#:maj', 'A#:maj', 'A#:maj', 'A#:maj', 'A#:maj', 'A#:maj', 'A#:maj', 'A#:maj', 'A#:maj', 'A#:maj', 'A#:maj', 'A#:maj', 'A#:maj', 'A#:maj', 'A#:maj', 'A#:maj', 'A#:maj', 'A#:maj', 'A#:maj', 'A#:maj', 'A#:maj', 'A#:maj', 'A#:maj', 'A#:maj', 'A#:maj', 'A#:maj', 'A#:maj', 'A#:maj', 'A#:maj', 'A#:maj', 'A#:maj', 'A#:maj', 'A#:maj', 'A#:maj', 'A#:maj', 'A#:maj', 'A#:maj', 'A#:maj', 'A#:maj', 'A#:maj', 'A#:maj', 'A#:maj', 'A#:maj', 'A#:maj', 'A#:maj', 'A#:maj', 'A#:maj', 'A#:maj', 'A#:maj', 'A#:maj', 'A#:maj', 'A#:maj', 'A#:maj', 'A#:maj', 'A#:maj', 'A#:maj', 'A#:maj', 'A#:maj', 'A#:maj', 'A#:maj', 'A#:maj', 'A#:maj', 'A#:maj', 'A#:maj', 'A#:maj', 'A#:maj', 'A#:maj', 'A#:maj', 'A#:maj', 'A#:maj', 'A#:maj', 'A#:maj', 'A#:maj', 'A#:maj', 'A#:maj', 'A#:maj', 'A#:maj', 'A#:maj', 'A#:maj', 'A#:maj', 'A#:maj', 'A#:maj', 'A#:maj', 'A#:maj', 'A#:maj', 'A#:maj', 'A#:maj', 'A#:maj', 'A#:maj', 'A#:maj', 'A#:maj', 'A#:maj', 'A#:maj', 'A#:7', 'A#:7', 'A#:7', 'A#:7', 'A#:7', 'A#:7', 'A#:7', 'A#:7', 'A#:7', 'A#:7', 'A#:7', 'A#:7', 'A#:7', 'A#:7', 'A#:7', 'A#:7', 'A#:7', 'A#:7', 'A#:7', 'A#:7', 'A#:7', 'A#:7', 'A#:7', 'A#:7', 'A#:7', 'A#:7', 'A#:7', 'A#:7', 'A#:7', 'A#:7', 'D#:maj', 'D#:maj', 'D#:maj', 'D#:maj', 'D#:maj', 'D#:maj', 'D#:maj', 'D#:maj', 'D#:maj', 'D#:maj', 'D#:maj', 'D#:maj', 'D#:maj', 'D#:maj', 'D#:maj', 'D#:maj', 'D#:maj', 'D#:maj', 'D#:maj', 'D#:maj', 'D#:maj', 'D#:maj', 'D#:maj', 'D#:maj', 'D#:maj', 'D#:maj', 'D#:maj', 'D#:maj', 'D#:maj', 'D#:maj', 'D#:maj', 'D#:maj', 'D#:maj', 'D#:maj', 'D#:maj', 'D#:maj', 'D#:maj', 'D#:maj', 'D#:maj', 'D#:maj', 'D#:maj', 'D#:maj', 'D#:maj', 'D#:maj', 'D#:maj', 'D#:maj', 'D#:maj', 'D#:maj', 'D#:maj', 'D#:maj', 'D#:maj', 'D#:maj', 'D#:maj', 'D#:maj', 'D#:maj', 'D#:maj', 'D#:maj', 'D#:maj', 'D#:maj', 'D#:maj', 'D#:maj', 'D#:maj', 'A#:maj', 'A#:maj', 'A#:maj', 'A#:maj', 'A#:maj', 'A#:maj', 'A#:maj', 'A#:maj', 'A#:maj', 'A#:maj', 'A#:maj', 'A#:maj', 'A#:maj', 'A#:maj', 'A#:maj', 'A#:maj', 'A#:maj', 'A#:maj', 'A#:maj', 'A#:maj', 'A#:maj', 'A#:maj', 'A#:maj', 'A#:maj', 'A#:maj', 'A#:maj', 'A#:maj', 'A#:maj', 'A#:maj', 'A#:maj', 'A#:maj', 'F:7', 'F:7', 'F:7', 'F:7', 'F:7', 'F:7', 'F:7', 'F:7', 'F:7', 'F:7', 'F:7', 'F:7', 'F:7', 'F:7', 'F:7', 'F:7', 'F:7', 'F:7', 'F:7', 'F:7', 'F:7', 'F:7', 'F:7', 'F:7', 'F:7', 'F:7', 'F:7', 'F:7', 'F:7', 'F:7', 'F:7', 'F:7', 'A#:maj', 'A#:maj', 'A#:maj', 'A#:maj', 'A#:maj', 'A#:maj', 'A#:maj', 'A#:maj', 'A#:maj', 'A#:maj', 'A#:maj', 'A#:maj', 'A#:maj', 'A#:maj', 'A#:maj', 'A#:maj', 'A#:maj', 'A#:maj', 'A#:maj', 'A#:maj', 'A#:maj', 'A#:maj', 'A#:maj', 'A#:maj', 'A#:maj', 'A#:maj', 'A#:maj', 'A#:maj', 'A#:maj', 'A#:maj', 'A#:maj', 'A#:7', 'A#:7', 'A#:7', 'A#:7', 'A#:7', 'A#:7', 'A#:7', 'A#:7', 'A#:7', 'A#:7', 'A#:7', 'A#:7', 'A#:7', 'A#:7', 'A#:7', 'A#:7', 'A#:7', 'A#:7', 'A#:7', 'A#:7', 'A#:7', 'A#:7', 'A#:7', 'A#:7', 'A#:7', 'A#:7', 'A#:7', 'A#:7', 'A#:7', 'A#:7', 'A#:7', 'A#:maj', 'A#:maj', 'A#:maj', 'A#:maj', 'A#:maj', 'A#:maj', 'A#:maj', 'A#:maj', 'A#:maj', 'A#:maj', 'A#:maj', 'A#:maj', 'A#:maj', 'A#:maj', 'A#:maj', 'A#:maj', 'A#:maj', 'A#:maj', 'A#:maj', 'A#:maj', 'A#:maj', 'A#:maj', 'A#:maj', 'A#:maj', 'A#:maj', 'A#:maj', 'A#:maj', 'A#:maj', 'A#:maj', 'A#:maj', 'A#:maj', 'F:7', 'F:7', 'F:7', 'F:7', 'F:7', 'F:7', 'F:7', 'F:7', 'F:7', 'F:7', 'F:7', 'F:7', 'F:7', 'F:7', 'F:7', 'F:7', 'F:7', 'F:7', 'F:7', 'F:7', 'F:7', 'F:7', 'F:7', 'F:7', 'F:7', 'F:7', 'F:7', 'F:7', 'F:7', 'F:7', 'F:7', 'A#:maj', 'A#:maj', 'A#:maj', 'A#:maj', 'A#:maj', 'A#:maj', 'A#:maj', 'A#:maj', 'A#:maj', 'A#:maj', 'A#:maj', 'A#:maj', 'A#:maj', 'A#:maj', 'A#:maj', 'A#:maj', 'A#:maj', 'A#:maj', 'A#:maj', 'A#:maj', 'A#:maj', 'A#:maj', 'A#:maj', 'A#:maj', 'A#:maj', 'A#:maj', 'A#:maj', 'A#:maj', 'A#:maj', 'A#:maj', 'A#:maj', 'A#:7', 'A#:7', 'A#:7', 'A#:7', 'A#:7', 'A#:7', 'A#:7', 'A#:7', 'A#:7', 'A#:7', 'A#:7', 'A#:7', 'A#:7', 'A#:7', 'A#:7', 'A#:7', 'A#:7', 'A#:7', 'A#:7', 'A#:7', 'A#:7', 'A#:7', 'A#:7', 'A#:7', 'A#:7', 'A#:7', 'A#:7', 'A#:7', 'A#:7', 'A#:7', 'A#:7', 'A#:maj', 'A#:maj', 'A#:maj', 'A#:maj', 'A#:maj', 'A#:maj', 'A#:maj', 'A#:maj', 'A#:maj', 'A#:maj', 'A#:maj', 'A#:maj', 'A#:maj', 'A#:maj', 'A#:maj', 'A#:maj', 'A#:maj', 'A#:maj', 'A#:maj', 'A#:maj', 'A#:maj', 'A#:maj', 'A#:maj', 'A#:maj', 'A#:maj', 'A#:maj', 'A#:maj', 'A#:maj', 'A#:maj', 'A#:maj', 'F:7', 'F:7', 'F:7', 'F:7', 'F:7', 'F:7', 'F:7', 'F:7', 'F:7', 'F:7', 'F:7', 'F:7', 'F:7', 'F:7', 'F:7', 'F:7', 'F:7', 'F:7', 'F:7', 'F:7', 'F:7', 'F:7', 'F:7', 'F:7', 'F:7', 'F:7', 'F:7', 'F:7', 'F:7', 'F:7', 'F:7', 'A#:maj', 'A#:maj', 'A#:maj', 'A#:maj', 'A#:maj', 'A#:maj', 'A#:maj', 'A#:maj', 'A#:maj', 'A#:maj', 'A#:maj', 'A#:maj', 'A#:maj', 'A#:maj', 'A#:maj', 'A#:maj', 'A#:maj', 'A#:maj', 'A#:maj', 'A#:maj', 'A#:maj', 'A#:maj', 'A#:maj', 'A#:maj', 'A#:maj', 'A#:maj', 'A#:maj', 'A#:maj', 'A#:maj', 'A#:maj', 'A#:maj', 'A#:7', 'A#:7', 'A#:7', 'A#:7', 'A#:7', 'A#:7', 'A#:7', 'A#:7', 'A#:7', 'A#:7', 'A#:7', 'A#:7', 'A#:7', 'A#:7', 'A#:7', 'A#:7', 'A#:7', 'A#:7', 'A#:7', 'A#:7', 'A#:7', 'A#:7', 'A#:7', 'A#:7', 'A#:7', 'A#:7', 'A#:7', 'A#:7', 'A#:7', 'A#:7', 'A#:maj', 'A#:maj', 'A#:maj', 'A#:maj', 'A#:maj', 'A#:maj', 'A#:maj', 'A#:maj', 'A#:maj', 'A#:maj', 'A#:maj', 'A#:maj', 'A#:maj', 'A#:maj', 'A#:maj', 'A#:maj', 'A#:maj', 'A#:maj', 'A#:maj', 'A#:maj', 'A#:maj', 'A#:maj', 'A#:maj', 'A#:maj', 'F:7', 'F:7', 'F:7', 'F:7', 'F:7', 'F:7', 'F:7', 'F:7', 'F:7', 'F:7', 'F:7', 'F:7', 'F:7', 'F:7', 'F:7', 'F:7', 'F:7', 'F:7', 'F:7', 'F:7', 'F:7', 'F:7', 'F:7', 'F:7', 'A#:maj', 'A#:maj', 'A#:maj', 'A#:maj', 'A#:maj', 'A#:maj', 'A#:maj', 'A#:maj', 'A#:maj', 'A#:maj', 'A#:maj', 'A#:maj', 'A#:maj', 'A#:maj', 'A#:maj', 'A#:maj', 'A#:maj', 'A#:maj', 'A#:maj', 'A#:maj', 'A#:maj', 'A#:maj', 'A#:maj', 'A#:maj', 'A#:maj', 'A#:7', 'A#:7', 'A#:7', 'A#:7', 'A#:7', 'A#:7', 'A#:7', 'A#:7', 'A#:7', 'A#:7', 'A#:7', 'A#:7', 'A#:7', 'A#:7', 'A#:7', 'A#:7', 'A#:7', 'A#:7', 'A#:7', 'A#:7', 'A#:7', 'A#:7', 'A#:7', 'A#:7', 'N', 'N', 'N', 'N', 'N', 'N', 'N', 'N', 'N', 'N', 'N', 'N', 'N', 'N', 'N', 'N', 'N', 'N', 'N', 'N', 'N', 'N', 'N', 'N', 'N', 'N', 'N', 'N', 'N', 'N', 'N', 'N', 'N']\n"
     ]
    },
    {
     "name": "stderr",
     "output_type": "stream",
     "text": [
      "/Users/pierrelardet/.pyenv/versions/UG4Diss/lib/python3.8/site-packages/torch/_utils.py:831: UserWarning: TypedStorage is deprecated. It will be removed in the future and UntypedStorage will be the only storage class. This should only matter to you if you are using storages directly.  To access UntypedStorage directly, use tensor.untyped_storage() instead of tensor.storage()\n",
      "  return self.fget.__get__(instance, owner)()\n"
     ]
    }
   ],
   "source": [
    "from src.utils import id_to_chord, chord_to_id\n",
    "\n",
    "ids = d[0][2]\n",
    "chords = [id_to_chord(i) for i in ids]\n",
    "print(chords)"
   ]
  },
  {
   "cell_type": "code",
   "execution_count": 7,
   "metadata": {},
   "outputs": [
    {
     "data": {
      "text/plain": [
       "'N'"
      ]
     },
     "execution_count": 7,
     "metadata": {},
     "output_type": "execute_result"
    }
   ],
   "source": [
    "\n",
    "id_to_chord(0) "
   ]
  },
  {
   "cell_type": "code",
   "execution_count": 16,
   "metadata": {},
   "outputs": [
    {
     "name": "stdout",
     "output_type": "stream",
     "text": [
      "['N', 'X', 'C#:maj', 'C#:min', 'C#:dim', 'C#:aug', 'C#:min6', 'C#:maj6', 'C#:min7', 'C#:minmaj7', 'C#:maj7', 'C#:7', 'C#:dim7', 'C#:hdim7', 'D:sus2', 'D:sus4', 'D:maj', 'D:min', 'D:dim', 'D:aug', 'D:min6', 'D:maj6', 'D:min7', 'D:minmaj7', 'D:maj7', 'D:7', 'D#:dim7', 'D#:hdim7', 'D#:sus2', 'D#:sus4', 'D#:maj', 'D#:min', 'D#:dim', 'D#:aug', 'D#:min6', 'D#:maj6', 'D#:min7', 'D#:minmaj7', 'E:maj7', 'E:7', 'E:dim7', 'E:hdim7', 'E:sus2', 'E:sus4', 'E:maj', 'E:min', 'E:dim', 'E:aug', 'E:min6', 'E:maj6', 'F:min7', 'F:minmaj7', 'F:maj7', 'F:7', 'F:dim7', 'F:hdim7', 'F:sus2', 'F:sus4', 'F:maj', 'F:min', 'F:dim', 'F:aug', 'F#:min6', 'F#:maj6', 'F#:min7', 'F#:minmaj7', 'F#:maj7', 'F#:7', 'F#:dim7', 'F#:hdim7', 'F#:sus2', 'F#:sus4', 'F#:maj', 'F#:min', 'G:dim', 'G:aug', 'G:min6', 'G:maj6', 'G:min7', 'G:minmaj7', 'G:maj7', 'G:7', 'G:dim7', 'G:hdim7', 'G:sus2', 'G:sus4', 'G#:maj', 'G#:min', 'G#:dim', 'G#:aug', 'G#:min6', 'G#:maj6', 'G#:min7', 'G#:minmaj7', 'G#:maj7', 'G#:7', 'G#:dim7', 'G#:hdim7', 'A:sus2', 'A:sus4', 'A:maj', 'A:min', 'A:dim', 'A:aug', 'A:min6', 'A:maj6', 'A:min7', 'A:minmaj7', 'A:maj7', 'A:7', 'A#:dim7', 'A#:hdim7', 'A#:sus2', 'A#:sus4', 'A#:maj', 'A#:min', 'A#:dim', 'A#:aug', 'A#:min6', 'A#:maj6', 'A#:min7', 'A#:minmaj7', 'B:maj7', 'B:7', 'B:dim7', 'B:hdim7', 'B:sus2', 'B:sus4', 'B:maj', 'B:min', 'B:dim', 'B:aug', 'B:min6', 'B:maj6', 'C:min7', 'C:minmaj7', 'C:maj7', 'C:7', 'C:dim7', 'C:hdim7', 'C:sus2', 'C:sus4', 'C:maj', 'C:min', 'C:dim', 'C:aug', 'C#:min6', 'C#:maj6', 'C#:min7', 'C#:minmaj7', 'C#:maj7', 'C#:7', 'C#:dim7', 'C#:hdim7', 'C#:sus2', 'C#:sus4', 'C#:maj', 'C#:min', 'D:dim', 'D:aug', 'D:min6', 'D:maj6', 'D:min7', 'D:minmaj7', 'D:maj7', 'D:7', 'D:dim7', 'D:hdim7', 'D:sus2', 'D:sus4']\n"
     ]
    }
   ],
   "source": [
    "ids = range(0,170)\n",
    "chords = [id_to_chord(i) for i in ids]\n",
    "transposed = transpose_chord_id_vector(ids, 1)\n",
    "transposed_chords = [id_to_chord(i) for i in transposed]\n",
    "print(transposed_chords)"
   ]
  },
  {
   "cell_type": "code",
   "execution_count": 17,
   "metadata": {},
   "outputs": [
    {
     "name": "stdout",
     "output_type": "stream",
     "text": [
      "['N', 'X', 'C:maj', 'C:min', 'C:dim', 'C:aug', 'C:min6', 'C:maj6', 'C:min7', 'C:minmaj7', 'C:maj7', 'C:7', 'C:dim7', 'C:hdim7', 'C:sus2', 'C:sus4', 'C#:maj', 'C#:min', 'C#:dim', 'C#:aug', 'C#:min6', 'C#:maj6', 'C#:min7', 'C#:minmaj7', 'C#:maj7', 'C#:7', 'C#:dim7', 'C#:hdim7', 'C#:sus2', 'C#:sus4', 'D:maj', 'D:min', 'D:dim', 'D:aug', 'D:min6', 'D:maj6', 'D:min7', 'D:minmaj7', 'D:maj7', 'D:7', 'D:dim7', 'D:hdim7', 'D:sus2', 'D:sus4', 'D#:maj', 'D#:min', 'D#:dim', 'D#:aug', 'D#:min6', 'D#:maj6', 'D#:min7', 'D#:minmaj7', 'D#:maj7', 'D#:7', 'D#:dim7', 'D#:hdim7', 'D#:sus2', 'D#:sus4', 'E:maj', 'E:min', 'E:dim', 'E:aug', 'E:min6', 'E:maj6', 'E:min7', 'E:minmaj7', 'E:maj7', 'E:7', 'E:dim7', 'E:hdim7', 'E:sus2', 'E:sus4', 'F:maj', 'F:min', 'F:dim', 'F:aug', 'F:min6', 'F:maj6', 'F:min7', 'F:minmaj7', 'F:maj7', 'F:7', 'F:dim7', 'F:hdim7', 'F:sus2', 'F:sus4', 'F#:maj', 'F#:min', 'F#:dim', 'F#:aug', 'F#:min6', 'F#:maj6', 'F#:min7', 'F#:minmaj7', 'F#:maj7', 'F#:7', 'F#:dim7', 'F#:hdim7', 'F#:sus2', 'F#:sus4', 'G:maj', 'G:min', 'G:dim', 'G:aug', 'G:min6', 'G:maj6', 'G:min7', 'G:minmaj7', 'G:maj7', 'G:7', 'G:dim7', 'G:hdim7', 'G:sus2', 'G:sus4', 'G#:maj', 'G#:min', 'G#:dim', 'G#:aug', 'G#:min6', 'G#:maj6', 'G#:min7', 'G#:minmaj7', 'G#:maj7', 'G#:7', 'G#:dim7', 'G#:hdim7', 'G#:sus2', 'G#:sus4', 'A:maj', 'A:min', 'A:dim', 'A:aug', 'A:min6', 'A:maj6', 'A:min7', 'A:minmaj7', 'A:maj7', 'A:7', 'A:dim7', 'A:hdim7', 'A:sus2', 'A:sus4', 'A#:maj', 'A#:min', 'A#:dim', 'A#:aug', 'A#:min6', 'A#:maj6', 'A#:min7', 'A#:minmaj7', 'A#:maj7', 'A#:7', 'A#:dim7', 'A#:hdim7', 'A#:sus2', 'A#:sus4', 'B:maj', 'B:min', 'B:dim', 'B:aug', 'B:min6', 'B:maj6', 'B:min7', 'B:minmaj7', 'B:maj7', 'B:7', 'B:dim7', 'B:hdim7', 'B:sus2', 'B:sus4']\n",
      "['N', 'X', 'C#:maj', 'C#:min', 'C#:dim', 'C#:aug', 'C#:min6', 'C#:maj6', 'C#:min7', 'C#:minmaj7', 'C#:maj7', 'C#:7', 'C#:dim7', 'C#:hdim7', 'D:sus2', 'D:sus4', 'D:maj', 'D:min', 'D:dim', 'D:aug', 'D:min6', 'D:maj6', 'D:min7', 'D:minmaj7', 'D:maj7', 'D:7', 'D#:dim7', 'D#:hdim7', 'D#:sus2', 'D#:sus4', 'D#:maj', 'D#:min', 'D#:dim', 'D#:aug', 'D#:min6', 'D#:maj6', 'D#:min7', 'D#:minmaj7', 'E:maj7', 'E:7', 'E:dim7', 'E:hdim7', 'E:sus2', 'E:sus4', 'E:maj', 'E:min', 'E:dim', 'E:aug', 'E:min6', 'E:maj6', 'F:min7', 'F:minmaj7', 'F:maj7', 'F:7', 'F:dim7', 'F:hdim7', 'F:sus2', 'F:sus4', 'F:maj', 'F:min', 'F:dim', 'F:aug', 'F#:min6', 'F#:maj6', 'F#:min7', 'F#:minmaj7', 'F#:maj7', 'F#:7', 'F#:dim7', 'F#:hdim7', 'F#:sus2', 'F#:sus4', 'F#:maj', 'F#:min', 'G:dim', 'G:aug', 'G:min6', 'G:maj6', 'G:min7', 'G:minmaj7', 'G:maj7', 'G:7', 'G:dim7', 'G:hdim7', 'G:sus2', 'G:sus4', 'G#:maj', 'G#:min', 'G#:dim', 'G#:aug', 'G#:min6', 'G#:maj6', 'G#:min7', 'G#:minmaj7', 'G#:maj7', 'G#:7', 'G#:dim7', 'G#:hdim7', 'A:sus2', 'A:sus4', 'A:maj', 'A:min', 'A:dim', 'A:aug', 'A:min6', 'A:maj6', 'A:min7', 'A:minmaj7', 'A:maj7', 'A:7', 'A#:dim7', 'A#:hdim7', 'A#:sus2', 'A#:sus4', 'A#:maj', 'A#:min', 'A#:dim', 'A#:aug', 'A#:min6', 'A#:maj6', 'A#:min7', 'A#:minmaj7', 'B:maj7', 'B:7', 'B:dim7', 'B:hdim7', 'B:sus2', 'B:sus4', 'B:maj', 'B:min', 'B:dim', 'B:aug', 'B:min6', 'B:maj6', 'C:min7', 'C:minmaj7', 'C:maj7', 'C:7', 'C:dim7', 'C:hdim7', 'C:sus2', 'C:sus4', 'C:maj', 'C:min', 'C:dim', 'C:aug', 'C#:min6', 'C#:maj6', 'C#:min7', 'C#:minmaj7', 'C#:maj7', 'C#:7', 'C#:dim7', 'C#:hdim7', 'C#:sus2', 'C#:sus4', 'C#:maj', 'C#:min', 'D:dim', 'D:aug', 'D:min6', 'D:maj6', 'D:min7', 'D:minmaj7', 'D:maj7', 'D:7', 'D:dim7', 'D:hdim7', 'D:sus2', 'D:sus4']\n"
     ]
    }
   ],
   "source": [
    "print(chords)\n",
    "print(transposed_chords)"
   ]
  },
  {
   "cell_type": "code",
   "execution_count": null,
   "metadata": {},
   "outputs": [],
   "source": []
  }
 ],
 "metadata": {
  "kernelspec": {
   "display_name": "UG4Diss",
   "language": "python",
   "name": "python3"
  },
  "language_info": {
   "codemirror_mode": {
    "name": "ipython",
    "version": 3
   },
   "file_extension": ".py",
   "mimetype": "text/x-python",
   "name": "python",
   "nbconvert_exporter": "python",
   "pygments_lexer": "ipython3",
   "version": "3.8.10"
  }
 },
 "nbformat": 4,
 "nbformat_minor": 2
}
