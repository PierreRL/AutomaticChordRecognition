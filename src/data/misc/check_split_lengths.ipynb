{
 "cells": [
  {
   "cell_type": "code",
   "execution_count": 1,
   "metadata": {},
   "outputs": [
    {
     "name": "stdout",
     "output_type": "stream",
     "text": [
      "Train: 726\n",
      "Val: 241\n",
      "Test: 243\n"
     ]
    }
   ],
   "source": [
    "import os\n",
    "import json\n",
    "import autorootcwd\n",
    "# Open data/processed/splits.json\n",
    "with open('data/processed/splits.json', 'r') as f:\n",
    "    splits = json.load(f)\n",
    "\n",
    "# Print lengths of 'train', 'val', and 'test' splits\n",
    "print('Train:', len(splits['train']))\n",
    "print('Val:', len(splits['val']))\n",
    "print('Test:', len(splits['test']))"
   ]
  }
 ],
 "metadata": {
  "kernelspec": {
   "display_name": "UG4Diss",
   "language": "python",
   "name": "python3"
  },
  "language_info": {
   "codemirror_mode": {
    "name": "ipython",
    "version": 3
   },
   "file_extension": ".py",
   "mimetype": "text/x-python",
   "name": "python",
   "nbconvert_exporter": "python",
   "pygments_lexer": "ipython3",
   "version": "3.8.10"
  }
 },
 "nbformat": 4,
 "nbformat_minor": 2
}
