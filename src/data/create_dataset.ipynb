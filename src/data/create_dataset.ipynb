{
 "cells": [
  {
   "cell_type": "markdown",
   "metadata": {},
   "source": [
    "# Create Dataset\n",
    "\n",
    "This file creates a Pytorch dataset, where x is a log spectrogram and y is a chord annotation. There are hyperparameters available that control frame length of the dataset. "
   ]
  },
  {
   "cell_type": "code",
   "execution_count": 5,
   "metadata": {},
   "outputs": [],
   "source": [
    "import autorootcwd\n",
    "import os\n",
    "from torch.utils.data import DataLoader, Dataset, random_split\n",
    "import torch\n",
    "torch.manual_seed(0)\n",
    "\"\"\n",
    "from src.utils import get_cqt, get_annotation_metadata, chord_ann_to_tensor\n",
    "from src.data.dataset import ChordDataset"
   ]
  },
  {
   "cell_type": "code",
   "execution_count": 11,
   "metadata": {},
   "outputs": [
    {
     "name": "stdout",
     "output_type": "stream",
     "text": [
      "The autoreload extension is already loaded. To reload it, use:\n",
      "  %reload_ext autoreload\n"
     ]
    }
   ],
   "source": [
    "# Reload all modules automatically\n",
    "%load_ext autoreload\n",
    "%autoreload 2"
   ]
  },
  {
   "cell_type": "code",
   "execution_count": 32,
   "metadata": {},
   "outputs": [
    {
     "data": {
      "text/plain": [
       "(970, 243)"
      ]
     },
     "execution_count": 32,
     "metadata": {},
     "output_type": "execute_result"
    }
   ],
   "source": [
    "dataset = ChordDataset(cached=True)\n",
    "\n",
    "# Split the dataset into train and test\n",
    "train_size = int(0.8 * len(dataset))\n",
    "test_size = len(dataset) - train_size\n",
    "\n",
    "train_dataset, test_dataset = random_split(dataset, [train_size, test_size])\n",
    "\n",
    "len(train_dataset), len(test_dataset)"
   ]
  },
  {
   "cell_type": "code",
   "execution_count": 38,
   "metadata": {},
   "outputs": [
    {
     "data": {
      "text/plain": [
       "tensor([[-19.7347, -22.6108, -26.6053,  ..., -57.4225, -57.4225, -57.4225],\n",
       "        [-10.1687, -11.7699, -13.8765,  ..., -57.4225, -57.4225, -57.4225],\n",
       "        [ -4.7007,  -5.8193,  -7.2267,  ..., -57.4225, -57.4225, -57.4225],\n",
       "        ...,\n",
       "        [-57.4225, -57.4225, -57.4225,  ..., -57.4225, -57.4225, -57.4225],\n",
       "        [-57.4225, -57.4225, -57.4225,  ..., -57.4225, -57.4225, -57.4225],\n",
       "        [-57.4225, -57.4225, -57.4225,  ..., -57.4225, -57.4225, -57.4225]])"
      ]
     },
     "execution_count": 38,
     "metadata": {},
     "output_type": "execute_result"
    }
   ],
   "source": [
    "train_dataset[0][0]"
   ]
  },
  {
   "cell_type": "code",
   "execution_count": 37,
   "metadata": {},
   "outputs": [
    {
     "data": {
      "text/plain": [
       "tensor([[-19.7347, -22.6108, -26.6053,  ..., -57.4225, -57.4225, -57.4225],\n",
       "        [-10.1687, -11.7699, -13.8765,  ..., -57.4225, -57.4225, -57.4225],\n",
       "        [ -4.7007,  -5.8193,  -7.2267,  ..., -57.4225, -57.4225, -57.4225],\n",
       "        ...,\n",
       "        [-57.4225, -57.4225, -57.4225,  ..., -57.4225, -57.4225, -57.4225],\n",
       "        [-57.4225, -57.4225, -57.4225,  ..., -57.4225, -57.4225, -57.4225],\n",
       "        [-57.4225, -57.4225, -57.4225,  ..., -57.4225, -57.4225, -57.4225]])"
      ]
     },
     "execution_count": 37,
     "metadata": {},
     "output_type": "execute_result"
    }
   ],
   "source": [
    "train_dataset[0][1]"
   ]
  }
 ],
 "metadata": {
  "kernelspec": {
   "display_name": "UG4Diss",
   "language": "python",
   "name": "python3"
  },
  "language_info": {
   "codemirror_mode": {
    "name": "ipython",
    "version": 3
   },
   "file_extension": ".py",
   "mimetype": "text/x-python",
   "name": "python",
   "nbconvert_exporter": "python",
   "pygments_lexer": "ipython3",
   "version": "3.9.6"
  }
 },
 "nbformat": 4,
 "nbformat_minor": 2
}
