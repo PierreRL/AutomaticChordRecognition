{
 "cells": [
  {
   "cell_type": "code",
   "execution_count": 1,
   "id": "10edd733",
   "metadata": {},
   "outputs": [],
   "source": [
    "%load_ext autoreload\n",
    "%autoreload 2"
   ]
  },
  {
   "cell_type": "code",
   "execution_count": 2,
   "id": "22204afb",
   "metadata": {},
   "outputs": [],
   "source": [
    "import autorootcwd\n",
    "import os\n",
    "import argparse\n",
    "from tqdm import tqdm\n",
    "import numpy as np\n",
    "from madmom.features.beats import RNNBeatProcessor, DBNBeatTrackingProcessor\n",
    "\n",
    "\n",
    "def main(\n",
    "    input_dir=\"data/processed/audio\",\n",
    "    output_dir=\"data/processed/beats\",\n",
    "    start_idx=None,\n",
    "    end_idx=None,\n",
    "):\n",
    "    os.makedirs(output_dir, exist_ok=True)\n",
    "\n",
    "    filenames = os.listdir(input_dir)\n",
    "    filenames = [f for f in filenames if f.endswith(\".mp3\")]\n",
    "    filenames = [os.path.splitext(f)[0] for f in filenames]\n",
    "    filenames.sort()\n",
    "\n",
    "    if start_idx is not None and end_idx is not None:\n",
    "        filenames = filenames[start_idx:end_idx]\n",
    "    elif start_idx is not None:\n",
    "        filenames = filenames[start_idx:]\n",
    "    elif end_idx is not None:\n",
    "        filenames = filenames[:end_idx]\n",
    "\n",
    "    act_proc = RNNBeatProcessor()\n",
    "    beat_proc = DBNBeatTrackingProcessor(fps=100)\n",
    "\n",
    "    for filename in tqdm(filenames):\n",
    "        input_path = os.path.join(input_dir, f\"{filename}.mp3\")\n",
    "        output_path = os.path.join(output_dir, f\"{filename}.npy\")\n",
    "\n",
    "        if os.path.exists(output_path):\n",
    "            continue\n",
    "\n",
    "        try:\n",
    "            activations = act_proc(input_path)\n",
    "            beats = beat_proc(activations)\n",
    "            np.save(output_path, beats)\n",
    "        except Exception as e:\n",
    "            print(f\"Failed to process {filename}: {e}\")"
   ]
  },
  {
   "cell_type": "code",
   "execution_count": 3,
   "id": "ebcb1747",
   "metadata": {},
   "outputs": [
    {
     "name": "stderr",
     "output_type": "stream",
     "text": [
      "100%|██████████| 4/4 [01:48<00:00, 27.11s/it]\n"
     ]
    }
   ],
   "source": [
    "dir = 'data/extras/audio'\n",
    "out = 'data/extras/beats'\n",
    "main(\n",
    "    input_dir=dir,\n",
    "    output_dir=out,\n",
    ")"
   ]
  }
 ],
 "metadata": {
  "kernelspec": {
   "display_name": "madmom",
   "language": "python",
   "name": "python3"
  },
  "language_info": {
   "codemirror_mode": {
    "name": "ipython",
    "version": 3
   },
   "file_extension": ".py",
   "mimetype": "text/x-python",
   "name": "python",
   "nbconvert_exporter": "python",
   "pygments_lexer": "ipython3",
   "version": "3.9.6"
  }
 },
 "nbformat": 4,
 "nbformat_minor": 5
}
